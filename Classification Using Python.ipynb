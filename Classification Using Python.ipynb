{
  "nbformat": 4,
  "nbformat_minor": 0,
  "metadata": {
    "colab": {
      "name": "CA2_CLASSIFICATION.ipynb",
      "provenance": [],
      "collapsed_sections": []
    },
    "kernelspec": {
      "name": "python3",
      "display_name": "Python 3"
    }
  },
  "cells": [
    {
      "cell_type": "markdown",
      "metadata": {
        "id": "9ci8dkT3khiF"
      },
      "source": [
        "**DEFINE PROBLEM**"
      ]
    },
    {
      "cell_type": "code",
      "metadata": {
        "id": "4QdSUYlie3qi",
        "outputId": "af97e708-9b9b-45ad-af03-9ae6791130f8",
        "colab": {
          "base_uri": "https://localhost:8080/",
          "height": 86
        }
      },
      "source": [
        "## data_source = https://github.com/fivethirtyeight/data/blob/master/nutrition-studies/raw_anonymized_data.csv\n",
        "###This dataset describes individauls health conditions in regards to the following features\n",
        "'''ID\tcancer\tdiabetes\theart_disease\tbelly\tever_smoked\tcurrently_smoke\tsmoke_often\tsmoke_rarely\tnever_smoked\tquit_smoking\tleft_hand\tright_hand\treadingMath\tmathReading\tfavCable\t\n",
        "unfavCable\tneutralCable\tnoCrash\tyesCrash\tuhCrash\trash\tcat\tdog\tDems\tatheist\tJewish\tBREAKFASTSANDWICHFREQ\tBREAKFASTSANDWICHQUAN\tEGGSFREQ\tEGGSQUAN\tYOGURTFREQ\tYOGURTQUAN\t\n",
        "COTTAGECHEESEFREQ\tCOTTAGECHEESEQUAN\tCREAMCHEESEFREQ\tCREAMCHEESEQUAN\tSLICEDCHEESEFREQ\tSLICEDCHEESEQUAN\tCOLDCEREALFREQ\t...\tTHR_G\tILE_G\tLEU_G\tLYS_G\tMET_G\tCYS_G\tPHE_G\tTYR_G\tVAL_G\t\n",
        "ARG_G\tHISTN_G\tALA_G\tASP_G\tGLU_G\tGLY_G\tPRO_G\tSER_G\tHYP\tPAC_1\tPAC_2\tPAC_3\tPAC_4\tPAC_7\tPAC10\tBETN_C\tCHOLNFR\tCHOLNGPC\tCHOLNPC\tCHOLNPTC\tCHOLNSM\tDT_FIBER_INSOL\tDT_FIBER_SOL\n",
        "DT_PROT_ANIMAL\tDT_PROT_VEGETABLE\tDT_NITROGEN\tPHYTIC_ACID\tOXALIC_ACID\tCOUMESTROL\tBIOCHANIN_A\tFORMONONETIN\n",
        "'''\n",
        "###Create a model that helps a Nutritionist easily predict if or not an individual has cancer\n"
      ],
      "execution_count": null,
      "outputs": [
        {
          "output_type": "execute_result",
          "data": {
            "application/vnd.google.colaboratory.intrinsic": {
              "type": "string"
            },
            "text/plain": [
              "'ID\\tcancer\\tdiabetes\\theart_disease\\tbelly\\tever_smoked\\tcurrently_smoke\\tsmoke_often\\tsmoke_rarely\\tnever_smoked\\tquit_smoking\\tleft_hand\\tright_hand\\treadingMath\\tmathReading\\tfavCable\\t\\nunfavCable\\tneutralCable\\tnoCrash\\tyesCrash\\tuhCrash\\trash\\tcat\\tdog\\tDems\\tatheist\\tJewish\\tBREAKFASTSANDWICHFREQ\\tBREAKFASTSANDWICHQUAN\\tEGGSFREQ\\tEGGSQUAN\\tYOGURTFREQ\\tYOGURTQUAN\\t\\nCOTTAGECHEESEFREQ\\tCOTTAGECHEESEQUAN\\tCREAMCHEESEFREQ\\tCREAMCHEESEQUAN\\tSLICEDCHEESEFREQ\\tSLICEDCHEESEQUAN\\tCOLDCEREALFREQ\\t...\\tTHR_G\\tILE_G\\tLEU_G\\tLYS_G\\tMET_G\\tCYS_G\\tPHE_G\\tTYR_G\\tVAL_G\\t\\nARG_G\\tHISTN_G\\tALA_G\\tASP_G\\tGLU_G\\tGLY_G\\tPRO_G\\tSER_G\\tHYP\\tPAC_1\\tPAC_2\\tPAC_3\\tPAC_4\\tPAC_7\\tPAC10\\tBETN_C\\tCHOLNFR\\tCHOLNGPC\\tCHOLNPC\\tCHOLNPTC\\tCHOLNSM\\tDT_FIBER_INSOL\\tDT_FIBER_SOL\\nDT_PROT_ANIMAL\\tDT_PROT_VEGETABLE\\tDT_NITROGEN\\tPHYTIC_ACID\\tOXALIC_ACID\\tCOUMESTROL\\tBIOCHANIN_A\\tFORMONONETIN\\n'"
            ]
          },
          "metadata": {
            "tags": []
          },
          "execution_count": 1
        }
      ]
    },
    {
      "cell_type": "code",
      "metadata": {
        "id": "0BA5ifUN8CER"
      },
      "source": [
        "#import the required libraries\n",
        "import pandas as pd\n",
        "import numpy as np\n",
        "import matplotlib.pyplot as PH\n",
        "%matplotlib inline"
      ],
      "execution_count": null,
      "outputs": []
    },
    {
      "cell_type": "code",
      "metadata": {
        "id": "Q89HKj5C9Rpi",
        "outputId": "200d4e5a-546c-4db1-f748-f94dfca59244",
        "colab": {
          "resources": {
            "http://localhost:8080/nbextensions/google.colab/files.js": {
              "data": "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",
              "ok": true,
              "headers": [
                [
                  "content-type",
                  "application/javascript"
                ]
              ],
              "status": 200,
              "status_text": ""
            }
          },
          "base_uri": "https://localhost:8080/",
          "height": 72
        }
      },
      "source": [
        "#import data\n",
        "#import file to google colab\n",
        "from google.colab import files\n",
        "uploaded = files.upload()"
      ],
      "execution_count": null,
      "outputs": [
        {
          "output_type": "display_data",
          "data": {
            "text/html": [
              "\n",
              "     <input type=\"file\" id=\"files-f45a520e-33cd-4402-8f7d-636eb5d81218\" name=\"files[]\" multiple disabled\n",
              "        style=\"border:none\" />\n",
              "     <output id=\"result-f45a520e-33cd-4402-8f7d-636eb5d81218\">\n",
              "      Upload widget is only available when the cell has been executed in the\n",
              "      current browser session. Please rerun this cell to enable.\n",
              "      </output>\n",
              "      <script src=\"/nbextensions/google.colab/files.js\"></script> "
            ],
            "text/plain": [
              "<IPython.core.display.HTML object>"
            ]
          },
          "metadata": {
            "tags": []
          }
        },
        {
          "output_type": "stream",
          "text": [
            "Saving Nutrition.csv to Nutrition.csv\n"
          ],
          "name": "stdout"
        }
      ]
    },
    {
      "cell_type": "code",
      "metadata": {
        "id": "xfPboV8hEPmb"
      },
      "source": [
        "##LOAD THE DATA\n",
        "df=pd.read_csv('Nutrition.csv')"
      ],
      "execution_count": null,
      "outputs": []
    },
    {
      "cell_type": "code",
      "metadata": {
        "id": "PXMNjSmh9eaI",
        "outputId": "3ed22e37-bf29-48f5-b45c-8b1ed6082fcc",
        "colab": {
          "base_uri": "https://localhost:8080/",
          "height": 253
        }
      },
      "source": [
        "#view first five data sets\n",
        "df.head(5)"
      ],
      "execution_count": null,
      "outputs": [
        {
          "output_type": "execute_result",
          "data": {
            "text/html": [
              "<div>\n",
              "<style scoped>\n",
              "    .dataframe tbody tr th:only-of-type {\n",
              "        vertical-align: middle;\n",
              "    }\n",
              "\n",
              "    .dataframe tbody tr th {\n",
              "        vertical-align: top;\n",
              "    }\n",
              "\n",
              "    .dataframe thead th {\n",
              "        text-align: right;\n",
              "    }\n",
              "</style>\n",
              "<table border=\"1\" class=\"dataframe\">\n",
              "  <thead>\n",
              "    <tr style=\"text-align: right;\">\n",
              "      <th></th>\n",
              "      <th>ID</th>\n",
              "      <th>cancer</th>\n",
              "      <th>diabetes</th>\n",
              "      <th>heart_disease</th>\n",
              "      <th>belly</th>\n",
              "      <th>ever_smoked</th>\n",
              "      <th>currently_smoke</th>\n",
              "      <th>smoke_often</th>\n",
              "      <th>smoke_rarely</th>\n",
              "      <th>never_smoked</th>\n",
              "      <th>quit_smoking</th>\n",
              "      <th>left_hand</th>\n",
              "      <th>right_hand</th>\n",
              "      <th>readingMath</th>\n",
              "      <th>mathReading</th>\n",
              "      <th>favCable</th>\n",
              "      <th>unfavCable</th>\n",
              "      <th>neutralCable</th>\n",
              "      <th>noCrash</th>\n",
              "      <th>yesCrash</th>\n",
              "      <th>uhCrash</th>\n",
              "      <th>rash</th>\n",
              "      <th>cat</th>\n",
              "      <th>dog</th>\n",
              "      <th>Dems</th>\n",
              "      <th>atheist</th>\n",
              "      <th>Jewish</th>\n",
              "      <th>BREAKFASTSANDWICHFREQ</th>\n",
              "      <th>BREAKFASTSANDWICHQUAN</th>\n",
              "      <th>EGGSFREQ</th>\n",
              "      <th>EGGSQUAN</th>\n",
              "      <th>YOGURTFREQ</th>\n",
              "      <th>YOGURTQUAN</th>\n",
              "      <th>COTTAGECHEESEFREQ</th>\n",
              "      <th>COTTAGECHEESEQUAN</th>\n",
              "      <th>CREAMCHEESEFREQ</th>\n",
              "      <th>CREAMCHEESEQUAN</th>\n",
              "      <th>SLICEDCHEESEFREQ</th>\n",
              "      <th>SLICEDCHEESEQUAN</th>\n",
              "      <th>COLDCEREALFREQ</th>\n",
              "      <th>...</th>\n",
              "      <th>THR_G</th>\n",
              "      <th>ILE_G</th>\n",
              "      <th>LEU_G</th>\n",
              "      <th>LYS_G</th>\n",
              "      <th>MET_G</th>\n",
              "      <th>CYS_G</th>\n",
              "      <th>PHE_G</th>\n",
              "      <th>TYR_G</th>\n",
              "      <th>VAL_G</th>\n",
              "      <th>ARG_G</th>\n",
              "      <th>HISTN_G</th>\n",
              "      <th>ALA_G</th>\n",
              "      <th>ASP_G</th>\n",
              "      <th>GLU_G</th>\n",
              "      <th>GLY_G</th>\n",
              "      <th>PRO_G</th>\n",
              "      <th>SER_G</th>\n",
              "      <th>HYP</th>\n",
              "      <th>PAC_1</th>\n",
              "      <th>PAC_2</th>\n",
              "      <th>PAC_3</th>\n",
              "      <th>PAC_4</th>\n",
              "      <th>PAC_7</th>\n",
              "      <th>PAC10</th>\n",
              "      <th>BETN_C</th>\n",
              "      <th>CHOLNFR</th>\n",
              "      <th>CHOLNGPC</th>\n",
              "      <th>CHOLNPC</th>\n",
              "      <th>CHOLNPTC</th>\n",
              "      <th>CHOLNSM</th>\n",
              "      <th>DT_FIBER_INSOL</th>\n",
              "      <th>DT_FIBER_SOL</th>\n",
              "      <th>DT_PROT_ANIMAL</th>\n",
              "      <th>DT_PROT_VEGETABLE</th>\n",
              "      <th>DT_NITROGEN</th>\n",
              "      <th>PHYTIC_ACID</th>\n",
              "      <th>OXALIC_ACID</th>\n",
              "      <th>COUMESTROL</th>\n",
              "      <th>BIOCHANIN_A</th>\n",
              "      <th>FORMONONETIN</th>\n",
              "    </tr>\n",
              "  </thead>\n",
              "  <tbody>\n",
              "    <tr>\n",
              "      <th>0</th>\n",
              "      <td>1003</td>\n",
              "      <td>Yes</td>\n",
              "      <td>No</td>\n",
              "      <td>No</td>\n",
              "      <td>Innie</td>\n",
              "      <td>Yes</td>\n",
              "      <td>Yes</td>\n",
              "      <td>Yes</td>\n",
              "      <td>No</td>\n",
              "      <td>No</td>\n",
              "      <td>No</td>\n",
              "      <td>No</td>\n",
              "      <td>Yes</td>\n",
              "      <td>Yes</td>\n",
              "      <td>No</td>\n",
              "      <td>Yes</td>\n",
              "      <td>No</td>\n",
              "      <td>No</td>\n",
              "      <td>Yes</td>\n",
              "      <td>No</td>\n",
              "      <td>No</td>\n",
              "      <td>Yes</td>\n",
              "      <td>No</td>\n",
              "      <td>No</td>\n",
              "      <td>Yes</td>\n",
              "      <td>Yes</td>\n",
              "      <td>No</td>\n",
              "      <td>5</td>\n",
              "      <td>1</td>\n",
              "      <td>7</td>\n",
              "      <td>3</td>\n",
              "      <td>1</td>\n",
              "      <td>3</td>\n",
              "      <td>1</td>\n",
              "      <td>2</td>\n",
              "      <td>7</td>\n",
              "      <td>3</td>\n",
              "      <td>8</td>\n",
              "      <td>3</td>\n",
              "      <td>1</td>\n",
              "      <td>...</td>\n",
              "      <td>3.53</td>\n",
              "      <td>4.06</td>\n",
              "      <td>7.04</td>\n",
              "      <td>6.49</td>\n",
              "      <td>2.12</td>\n",
              "      <td>1.110</td>\n",
              "      <td>3.91</td>\n",
              "      <td>3.23</td>\n",
              "      <td>4.67</td>\n",
              "      <td>5.41</td>\n",
              "      <td>2.63</td>\n",
              "      <td>4.49</td>\n",
              "      <td>7.93</td>\n",
              "      <td>15.39</td>\n",
              "      <td>4.14</td>\n",
              "      <td>5.28</td>\n",
              "      <td>4.07</td>\n",
              "      <td>0.468</td>\n",
              "      <td>5.98</td>\n",
              "      <td>5.05</td>\n",
              "      <td>2.34</td>\n",
              "      <td>6.52</td>\n",
              "      <td>4.11</td>\n",
              "      <td>11.10</td>\n",
              "      <td>58.90</td>\n",
              "      <td>56.99</td>\n",
              "      <td>32.91</td>\n",
              "      <td>8.43</td>\n",
              "      <td>281.33</td>\n",
              "      <td>28.86</td>\n",
              "      <td>7.38</td>\n",
              "      <td>1.25</td>\n",
              "      <td>75.46</td>\n",
              "      <td>16.00</td>\n",
              "      <td>14.89</td>\n",
              "      <td>365.70</td>\n",
              "      <td>318.11</td>\n",
              "      <td>0.0117</td>\n",
              "      <td>0.0658</td>\n",
              "      <td>0.00324</td>\n",
              "    </tr>\n",
              "    <tr>\n",
              "      <th>1</th>\n",
              "      <td>1053</td>\n",
              "      <td>No</td>\n",
              "      <td>Yes</td>\n",
              "      <td>Yes</td>\n",
              "      <td>Outie</td>\n",
              "      <td>Yes</td>\n",
              "      <td>Yes</td>\n",
              "      <td>No</td>\n",
              "      <td>Yes</td>\n",
              "      <td>No</td>\n",
              "      <td>No</td>\n",
              "      <td>No</td>\n",
              "      <td>Yes</td>\n",
              "      <td>No</td>\n",
              "      <td>Yes</td>\n",
              "      <td>No</td>\n",
              "      <td>Yes</td>\n",
              "      <td>No</td>\n",
              "      <td>No</td>\n",
              "      <td>No</td>\n",
              "      <td>Yes</td>\n",
              "      <td>Yes</td>\n",
              "      <td>No</td>\n",
              "      <td>No</td>\n",
              "      <td>Yes</td>\n",
              "      <td>Yes</td>\n",
              "      <td>No</td>\n",
              "      <td>1</td>\n",
              "      <td>1</td>\n",
              "      <td>4</td>\n",
              "      <td>4</td>\n",
              "      <td>2</td>\n",
              "      <td>3</td>\n",
              "      <td>1</td>\n",
              "      <td>2</td>\n",
              "      <td>2</td>\n",
              "      <td>2</td>\n",
              "      <td>8</td>\n",
              "      <td>3</td>\n",
              "      <td>2</td>\n",
              "      <td>...</td>\n",
              "      <td>2.99</td>\n",
              "      <td>3.54</td>\n",
              "      <td>6.24</td>\n",
              "      <td>5.44</td>\n",
              "      <td>1.83</td>\n",
              "      <td>0.884</td>\n",
              "      <td>3.47</td>\n",
              "      <td>2.82</td>\n",
              "      <td>4.13</td>\n",
              "      <td>4.08</td>\n",
              "      <td>2.21</td>\n",
              "      <td>3.69</td>\n",
              "      <td>6.63</td>\n",
              "      <td>14.20</td>\n",
              "      <td>3.28</td>\n",
              "      <td>5.36</td>\n",
              "      <td>3.53</td>\n",
              "      <td>0.426</td>\n",
              "      <td>6.97</td>\n",
              "      <td>7.80</td>\n",
              "      <td>2.28</td>\n",
              "      <td>6.21</td>\n",
              "      <td>3.06</td>\n",
              "      <td>5.70</td>\n",
              "      <td>54.72</td>\n",
              "      <td>64.60</td>\n",
              "      <td>31.71</td>\n",
              "      <td>8.60</td>\n",
              "      <td>146.04</td>\n",
              "      <td>16.85</td>\n",
              "      <td>9.11</td>\n",
              "      <td>3.37</td>\n",
              "      <td>59.41</td>\n",
              "      <td>18.25</td>\n",
              "      <td>12.51</td>\n",
              "      <td>434.98</td>\n",
              "      <td>112.66</td>\n",
              "      <td>0.0107</td>\n",
              "      <td>0.1390</td>\n",
              "      <td>0.00743</td>\n",
              "    </tr>\n",
              "    <tr>\n",
              "      <th>2</th>\n",
              "      <td>1006</td>\n",
              "      <td>Yes</td>\n",
              "      <td>Yes</td>\n",
              "      <td>Yes</td>\n",
              "      <td>Innie</td>\n",
              "      <td>No</td>\n",
              "      <td>No</td>\n",
              "      <td>No</td>\n",
              "      <td>No</td>\n",
              "      <td>Yes</td>\n",
              "      <td>No</td>\n",
              "      <td>No</td>\n",
              "      <td>Yes</td>\n",
              "      <td>No</td>\n",
              "      <td>Yes</td>\n",
              "      <td>No</td>\n",
              "      <td>No</td>\n",
              "      <td>Yes</td>\n",
              "      <td>No</td>\n",
              "      <td>No</td>\n",
              "      <td>Yes</td>\n",
              "      <td>No</td>\n",
              "      <td>No</td>\n",
              "      <td>Yes</td>\n",
              "      <td>No</td>\n",
              "      <td>No</td>\n",
              "      <td>No</td>\n",
              "      <td>3</td>\n",
              "      <td>2</td>\n",
              "      <td>4</td>\n",
              "      <td>2</td>\n",
              "      <td>5</td>\n",
              "      <td>2</td>\n",
              "      <td>2</td>\n",
              "      <td>2</td>\n",
              "      <td>6</td>\n",
              "      <td>3</td>\n",
              "      <td>9</td>\n",
              "      <td>2</td>\n",
              "      <td>3</td>\n",
              "      <td>...</td>\n",
              "      <td>3.46</td>\n",
              "      <td>4.07</td>\n",
              "      <td>7.19</td>\n",
              "      <td>5.73</td>\n",
              "      <td>2.01</td>\n",
              "      <td>1.120</td>\n",
              "      <td>4.08</td>\n",
              "      <td>3.24</td>\n",
              "      <td>4.72</td>\n",
              "      <td>4.66</td>\n",
              "      <td>2.47</td>\n",
              "      <td>4.09</td>\n",
              "      <td>7.64</td>\n",
              "      <td>18.60</td>\n",
              "      <td>3.70</td>\n",
              "      <td>6.83</td>\n",
              "      <td>4.08</td>\n",
              "      <td>0.402</td>\n",
              "      <td>43.66</td>\n",
              "      <td>22.89</td>\n",
              "      <td>5.61</td>\n",
              "      <td>10.43</td>\n",
              "      <td>5.38</td>\n",
              "      <td>9.93</td>\n",
              "      <td>132.42</td>\n",
              "      <td>74.87</td>\n",
              "      <td>48.36</td>\n",
              "      <td>10.02</td>\n",
              "      <td>144.93</td>\n",
              "      <td>17.76</td>\n",
              "      <td>11.56</td>\n",
              "      <td>4.74</td>\n",
              "      <td>61.49</td>\n",
              "      <td>28.46</td>\n",
              "      <td>14.45</td>\n",
              "      <td>606.43</td>\n",
              "      <td>213.41</td>\n",
              "      <td>0.0965</td>\n",
              "      <td>0.0519</td>\n",
              "      <td>0.00946</td>\n",
              "    </tr>\n",
              "    <tr>\n",
              "      <th>3</th>\n",
              "      <td>1166</td>\n",
              "      <td>No</td>\n",
              "      <td>No</td>\n",
              "      <td>No</td>\n",
              "      <td>Innie</td>\n",
              "      <td>No</td>\n",
              "      <td>No</td>\n",
              "      <td>No</td>\n",
              "      <td>No</td>\n",
              "      <td>Yes</td>\n",
              "      <td>No</td>\n",
              "      <td>No</td>\n",
              "      <td>Yes</td>\n",
              "      <td>No</td>\n",
              "      <td>No</td>\n",
              "      <td>No</td>\n",
              "      <td>Yes</td>\n",
              "      <td>No</td>\n",
              "      <td>No</td>\n",
              "      <td>No</td>\n",
              "      <td>Yes</td>\n",
              "      <td>No</td>\n",
              "      <td>No</td>\n",
              "      <td>No</td>\n",
              "      <td>Yes</td>\n",
              "      <td>Yes</td>\n",
              "      <td>No</td>\n",
              "      <td>2</td>\n",
              "      <td>1</td>\n",
              "      <td>7</td>\n",
              "      <td>2</td>\n",
              "      <td>8</td>\n",
              "      <td>3</td>\n",
              "      <td>1</td>\n",
              "      <td>2</td>\n",
              "      <td>1</td>\n",
              "      <td>2</td>\n",
              "      <td>1</td>\n",
              "      <td>1</td>\n",
              "      <td>5</td>\n",
              "      <td>...</td>\n",
              "      <td>2.67</td>\n",
              "      <td>3.13</td>\n",
              "      <td>5.81</td>\n",
              "      <td>4.19</td>\n",
              "      <td>1.44</td>\n",
              "      <td>1.130</td>\n",
              "      <td>3.58</td>\n",
              "      <td>2.46</td>\n",
              "      <td>3.89</td>\n",
              "      <td>4.44</td>\n",
              "      <td>1.80</td>\n",
              "      <td>3.31</td>\n",
              "      <td>7.54</td>\n",
              "      <td>14.47</td>\n",
              "      <td>3.03</td>\n",
              "      <td>4.98</td>\n",
              "      <td>3.90</td>\n",
              "      <td>0.096</td>\n",
              "      <td>112.47</td>\n",
              "      <td>81.97</td>\n",
              "      <td>32.74</td>\n",
              "      <td>114.43</td>\n",
              "      <td>89.04</td>\n",
              "      <td>154.42</td>\n",
              "      <td>109.13</td>\n",
              "      <td>72.57</td>\n",
              "      <td>35.72</td>\n",
              "      <td>10.37</td>\n",
              "      <td>198.93</td>\n",
              "      <td>11.99</td>\n",
              "      <td>26.34</td>\n",
              "      <td>10.85</td>\n",
              "      <td>28.71</td>\n",
              "      <td>44.59</td>\n",
              "      <td>12.15</td>\n",
              "      <td>1570.07</td>\n",
              "      <td>334.08</td>\n",
              "      <td>0.2830</td>\n",
              "      <td>0.0890</td>\n",
              "      <td>0.01260</td>\n",
              "    </tr>\n",
              "    <tr>\n",
              "      <th>4</th>\n",
              "      <td>1134</td>\n",
              "      <td>Yes</td>\n",
              "      <td>No</td>\n",
              "      <td>No</td>\n",
              "      <td>Innie</td>\n",
              "      <td>No</td>\n",
              "      <td>No</td>\n",
              "      <td>No</td>\n",
              "      <td>No</td>\n",
              "      <td>Yes</td>\n",
              "      <td>No</td>\n",
              "      <td>No</td>\n",
              "      <td>Yes</td>\n",
              "      <td>No</td>\n",
              "      <td>Yes</td>\n",
              "      <td>No</td>\n",
              "      <td>No</td>\n",
              "      <td>Yes</td>\n",
              "      <td>No</td>\n",
              "      <td>No</td>\n",
              "      <td>Yes</td>\n",
              "      <td>No</td>\n",
              "      <td>No</td>\n",
              "      <td>No</td>\n",
              "      <td>Yes</td>\n",
              "      <td>Yes</td>\n",
              "      <td>No</td>\n",
              "      <td>3</td>\n",
              "      <td>1</td>\n",
              "      <td>5</td>\n",
              "      <td>2</td>\n",
              "      <td>8</td>\n",
              "      <td>2</td>\n",
              "      <td>2</td>\n",
              "      <td>2</td>\n",
              "      <td>4</td>\n",
              "      <td>2</td>\n",
              "      <td>7</td>\n",
              "      <td>1</td>\n",
              "      <td>8</td>\n",
              "      <td>...</td>\n",
              "      <td>2.18</td>\n",
              "      <td>2.52</td>\n",
              "      <td>4.51</td>\n",
              "      <td>3.71</td>\n",
              "      <td>1.20</td>\n",
              "      <td>0.743</td>\n",
              "      <td>2.64</td>\n",
              "      <td>1.90</td>\n",
              "      <td>3.00</td>\n",
              "      <td>3.11</td>\n",
              "      <td>1.55</td>\n",
              "      <td>2.74</td>\n",
              "      <td>5.11</td>\n",
              "      <td>11.36</td>\n",
              "      <td>2.43</td>\n",
              "      <td>4.11</td>\n",
              "      <td>2.71</td>\n",
              "      <td>0.177</td>\n",
              "      <td>83.46</td>\n",
              "      <td>62.01</td>\n",
              "      <td>11.10</td>\n",
              "      <td>27.16</td>\n",
              "      <td>16.32</td>\n",
              "      <td>33.35</td>\n",
              "      <td>130.29</td>\n",
              "      <td>88.79</td>\n",
              "      <td>41.01</td>\n",
              "      <td>8.41</td>\n",
              "      <td>130.52</td>\n",
              "      <td>11.40</td>\n",
              "      <td>16.48</td>\n",
              "      <td>4.80</td>\n",
              "      <td>32.41</td>\n",
              "      <td>28.23</td>\n",
              "      <td>9.80</td>\n",
              "      <td>616.99</td>\n",
              "      <td>422.55</td>\n",
              "      <td>0.1630</td>\n",
              "      <td>0.0994</td>\n",
              "      <td>0.02070</td>\n",
              "    </tr>\n",
              "  </tbody>\n",
              "</table>\n",
              "<p>5 rows × 1093 columns</p>\n",
              "</div>"
            ],
            "text/plain": [
              "     ID cancer diabetes  ... COUMESTROL BIOCHANIN_A FORMONONETIN\n",
              "0  1003    Yes       No  ...     0.0117      0.0658      0.00324\n",
              "1  1053     No      Yes  ...     0.0107      0.1390      0.00743\n",
              "2  1006    Yes      Yes  ...     0.0965      0.0519      0.00946\n",
              "3  1166     No       No  ...     0.2830      0.0890      0.01260\n",
              "4  1134    Yes       No  ...     0.1630      0.0994      0.02070\n",
              "\n",
              "[5 rows x 1093 columns]"
            ]
          },
          "metadata": {
            "tags": []
          },
          "execution_count": 5
        }
      ]
    },
    {
      "cell_type": "code",
      "metadata": {
        "id": "bQHWMOba9eU7",
        "outputId": "efd09ab3-b801-4469-d926-da340e718690",
        "colab": {
          "base_uri": "https://localhost:8080/",
          "height": 253
        }
      },
      "source": [
        "#view last five datasets\n",
        "df.tail(5)"
      ],
      "execution_count": null,
      "outputs": [
        {
          "output_type": "execute_result",
          "data": {
            "text/html": [
              "<div>\n",
              "<style scoped>\n",
              "    .dataframe tbody tr th:only-of-type {\n",
              "        vertical-align: middle;\n",
              "    }\n",
              "\n",
              "    .dataframe tbody tr th {\n",
              "        vertical-align: top;\n",
              "    }\n",
              "\n",
              "    .dataframe thead th {\n",
              "        text-align: right;\n",
              "    }\n",
              "</style>\n",
              "<table border=\"1\" class=\"dataframe\">\n",
              "  <thead>\n",
              "    <tr style=\"text-align: right;\">\n",
              "      <th></th>\n",
              "      <th>ID</th>\n",
              "      <th>cancer</th>\n",
              "      <th>diabetes</th>\n",
              "      <th>heart_disease</th>\n",
              "      <th>belly</th>\n",
              "      <th>ever_smoked</th>\n",
              "      <th>currently_smoke</th>\n",
              "      <th>smoke_often</th>\n",
              "      <th>smoke_rarely</th>\n",
              "      <th>never_smoked</th>\n",
              "      <th>quit_smoking</th>\n",
              "      <th>left_hand</th>\n",
              "      <th>right_hand</th>\n",
              "      <th>readingMath</th>\n",
              "      <th>mathReading</th>\n",
              "      <th>favCable</th>\n",
              "      <th>unfavCable</th>\n",
              "      <th>neutralCable</th>\n",
              "      <th>noCrash</th>\n",
              "      <th>yesCrash</th>\n",
              "      <th>uhCrash</th>\n",
              "      <th>rash</th>\n",
              "      <th>cat</th>\n",
              "      <th>dog</th>\n",
              "      <th>Dems</th>\n",
              "      <th>atheist</th>\n",
              "      <th>Jewish</th>\n",
              "      <th>BREAKFASTSANDWICHFREQ</th>\n",
              "      <th>BREAKFASTSANDWICHQUAN</th>\n",
              "      <th>EGGSFREQ</th>\n",
              "      <th>EGGSQUAN</th>\n",
              "      <th>YOGURTFREQ</th>\n",
              "      <th>YOGURTQUAN</th>\n",
              "      <th>COTTAGECHEESEFREQ</th>\n",
              "      <th>COTTAGECHEESEQUAN</th>\n",
              "      <th>CREAMCHEESEFREQ</th>\n",
              "      <th>CREAMCHEESEQUAN</th>\n",
              "      <th>SLICEDCHEESEFREQ</th>\n",
              "      <th>SLICEDCHEESEQUAN</th>\n",
              "      <th>COLDCEREALFREQ</th>\n",
              "      <th>...</th>\n",
              "      <th>THR_G</th>\n",
              "      <th>ILE_G</th>\n",
              "      <th>LEU_G</th>\n",
              "      <th>LYS_G</th>\n",
              "      <th>MET_G</th>\n",
              "      <th>CYS_G</th>\n",
              "      <th>PHE_G</th>\n",
              "      <th>TYR_G</th>\n",
              "      <th>VAL_G</th>\n",
              "      <th>ARG_G</th>\n",
              "      <th>HISTN_G</th>\n",
              "      <th>ALA_G</th>\n",
              "      <th>ASP_G</th>\n",
              "      <th>GLU_G</th>\n",
              "      <th>GLY_G</th>\n",
              "      <th>PRO_G</th>\n",
              "      <th>SER_G</th>\n",
              "      <th>HYP</th>\n",
              "      <th>PAC_1</th>\n",
              "      <th>PAC_2</th>\n",
              "      <th>PAC_3</th>\n",
              "      <th>PAC_4</th>\n",
              "      <th>PAC_7</th>\n",
              "      <th>PAC10</th>\n",
              "      <th>BETN_C</th>\n",
              "      <th>CHOLNFR</th>\n",
              "      <th>CHOLNGPC</th>\n",
              "      <th>CHOLNPC</th>\n",
              "      <th>CHOLNPTC</th>\n",
              "      <th>CHOLNSM</th>\n",
              "      <th>DT_FIBER_INSOL</th>\n",
              "      <th>DT_FIBER_SOL</th>\n",
              "      <th>DT_PROT_ANIMAL</th>\n",
              "      <th>DT_PROT_VEGETABLE</th>\n",
              "      <th>DT_NITROGEN</th>\n",
              "      <th>PHYTIC_ACID</th>\n",
              "      <th>OXALIC_ACID</th>\n",
              "      <th>COUMESTROL</th>\n",
              "      <th>BIOCHANIN_A</th>\n",
              "      <th>FORMONONETIN</th>\n",
              "    </tr>\n",
              "  </thead>\n",
              "  <tbody>\n",
              "    <tr>\n",
              "      <th>49</th>\n",
              "      <td>1129</td>\n",
              "      <td>Yes</td>\n",
              "      <td>No</td>\n",
              "      <td>No</td>\n",
              "      <td>Innie</td>\n",
              "      <td>No</td>\n",
              "      <td>No</td>\n",
              "      <td>No</td>\n",
              "      <td>No</td>\n",
              "      <td>Yes</td>\n",
              "      <td>No</td>\n",
              "      <td>No</td>\n",
              "      <td>Yes</td>\n",
              "      <td>Yes</td>\n",
              "      <td>No</td>\n",
              "      <td>No</td>\n",
              "      <td>No</td>\n",
              "      <td>Yes</td>\n",
              "      <td>No</td>\n",
              "      <td>No</td>\n",
              "      <td>Yes</td>\n",
              "      <td>No</td>\n",
              "      <td>No</td>\n",
              "      <td>No</td>\n",
              "      <td>Yes</td>\n",
              "      <td>No</td>\n",
              "      <td>No</td>\n",
              "      <td>4</td>\n",
              "      <td>1</td>\n",
              "      <td>7</td>\n",
              "      <td>2</td>\n",
              "      <td>7</td>\n",
              "      <td>2</td>\n",
              "      <td>5</td>\n",
              "      <td>2</td>\n",
              "      <td>4</td>\n",
              "      <td>2</td>\n",
              "      <td>9</td>\n",
              "      <td>1</td>\n",
              "      <td>1</td>\n",
              "      <td>...</td>\n",
              "      <td>2.88</td>\n",
              "      <td>3.35</td>\n",
              "      <td>5.86</td>\n",
              "      <td>4.71</td>\n",
              "      <td>1.61</td>\n",
              "      <td>0.932</td>\n",
              "      <td>3.37</td>\n",
              "      <td>2.52</td>\n",
              "      <td>3.86</td>\n",
              "      <td>3.96</td>\n",
              "      <td>1.91</td>\n",
              "      <td>3.40</td>\n",
              "      <td>6.76</td>\n",
              "      <td>14.09</td>\n",
              "      <td>2.85</td>\n",
              "      <td>4.97</td>\n",
              "      <td>3.53</td>\n",
              "      <td>0.140</td>\n",
              "      <td>44.67</td>\n",
              "      <td>32.00</td>\n",
              "      <td>13.82</td>\n",
              "      <td>47.12</td>\n",
              "      <td>34.43</td>\n",
              "      <td>86.30</td>\n",
              "      <td>55.22</td>\n",
              "      <td>67.41</td>\n",
              "      <td>28.17</td>\n",
              "      <td>16.48</td>\n",
              "      <td>197.50</td>\n",
              "      <td>18.09</td>\n",
              "      <td>20.14</td>\n",
              "      <td>5.55</td>\n",
              "      <td>44.61</td>\n",
              "      <td>29.63</td>\n",
              "      <td>12.11</td>\n",
              "      <td>643.38</td>\n",
              "      <td>189.54</td>\n",
              "      <td>0.0732</td>\n",
              "      <td>0.1630</td>\n",
              "      <td>0.0175</td>\n",
              "    </tr>\n",
              "    <tr>\n",
              "      <th>50</th>\n",
              "      <td>1005</td>\n",
              "      <td>Yes</td>\n",
              "      <td>Yes</td>\n",
              "      <td>No</td>\n",
              "      <td>Innie</td>\n",
              "      <td>No</td>\n",
              "      <td>No</td>\n",
              "      <td>No</td>\n",
              "      <td>No</td>\n",
              "      <td>Yes</td>\n",
              "      <td>No</td>\n",
              "      <td>No</td>\n",
              "      <td>Yes</td>\n",
              "      <td>No</td>\n",
              "      <td>No</td>\n",
              "      <td>Yes</td>\n",
              "      <td>No</td>\n",
              "      <td>No</td>\n",
              "      <td>No</td>\n",
              "      <td>Yes</td>\n",
              "      <td>No</td>\n",
              "      <td>No</td>\n",
              "      <td>No</td>\n",
              "      <td>No</td>\n",
              "      <td>Yes</td>\n",
              "      <td>Yes</td>\n",
              "      <td>No</td>\n",
              "      <td>1</td>\n",
              "      <td>1</td>\n",
              "      <td>3</td>\n",
              "      <td>2</td>\n",
              "      <td>8</td>\n",
              "      <td>3</td>\n",
              "      <td>1</td>\n",
              "      <td>2</td>\n",
              "      <td>2</td>\n",
              "      <td>1</td>\n",
              "      <td>4</td>\n",
              "      <td>2</td>\n",
              "      <td>4</td>\n",
              "      <td>...</td>\n",
              "      <td>1.93</td>\n",
              "      <td>2.34</td>\n",
              "      <td>4.28</td>\n",
              "      <td>3.28</td>\n",
              "      <td>1.13</td>\n",
              "      <td>0.667</td>\n",
              "      <td>2.50</td>\n",
              "      <td>1.88</td>\n",
              "      <td>2.93</td>\n",
              "      <td>2.64</td>\n",
              "      <td>1.34</td>\n",
              "      <td>2.26</td>\n",
              "      <td>4.36</td>\n",
              "      <td>11.07</td>\n",
              "      <td>1.95</td>\n",
              "      <td>4.34</td>\n",
              "      <td>2.65</td>\n",
              "      <td>0.135</td>\n",
              "      <td>18.04</td>\n",
              "      <td>15.54</td>\n",
              "      <td>7.28</td>\n",
              "      <td>24.46</td>\n",
              "      <td>16.34</td>\n",
              "      <td>30.43</td>\n",
              "      <td>78.38</td>\n",
              "      <td>50.04</td>\n",
              "      <td>41.01</td>\n",
              "      <td>8.61</td>\n",
              "      <td>60.77</td>\n",
              "      <td>7.83</td>\n",
              "      <td>11.11</td>\n",
              "      <td>3.67</td>\n",
              "      <td>27.33</td>\n",
              "      <td>22.39</td>\n",
              "      <td>8.18</td>\n",
              "      <td>610.83</td>\n",
              "      <td>151.75</td>\n",
              "      <td>0.0305</td>\n",
              "      <td>0.0408</td>\n",
              "      <td>0.0113</td>\n",
              "    </tr>\n",
              "    <tr>\n",
              "      <th>51</th>\n",
              "      <td>1044</td>\n",
              "      <td>Yes</td>\n",
              "      <td>No</td>\n",
              "      <td>No</td>\n",
              "      <td>Innie</td>\n",
              "      <td>No</td>\n",
              "      <td>No</td>\n",
              "      <td>No</td>\n",
              "      <td>No</td>\n",
              "      <td>Yes</td>\n",
              "      <td>No</td>\n",
              "      <td>No</td>\n",
              "      <td>Yes</td>\n",
              "      <td>No</td>\n",
              "      <td>Yes</td>\n",
              "      <td>No</td>\n",
              "      <td>No</td>\n",
              "      <td>Yes</td>\n",
              "      <td>Yes</td>\n",
              "      <td>No</td>\n",
              "      <td>No</td>\n",
              "      <td>No</td>\n",
              "      <td>Yes</td>\n",
              "      <td>No</td>\n",
              "      <td>Yes</td>\n",
              "      <td>Yes</td>\n",
              "      <td>No</td>\n",
              "      <td>2</td>\n",
              "      <td>1</td>\n",
              "      <td>5</td>\n",
              "      <td>2</td>\n",
              "      <td>9</td>\n",
              "      <td>3</td>\n",
              "      <td>3</td>\n",
              "      <td>2</td>\n",
              "      <td>4</td>\n",
              "      <td>3</td>\n",
              "      <td>5</td>\n",
              "      <td>1</td>\n",
              "      <td>4</td>\n",
              "      <td>...</td>\n",
              "      <td>3.90</td>\n",
              "      <td>4.58</td>\n",
              "      <td>7.87</td>\n",
              "      <td>7.26</td>\n",
              "      <td>2.32</td>\n",
              "      <td>1.140</td>\n",
              "      <td>4.37</td>\n",
              "      <td>3.59</td>\n",
              "      <td>5.36</td>\n",
              "      <td>5.06</td>\n",
              "      <td>2.72</td>\n",
              "      <td>4.64</td>\n",
              "      <td>9.01</td>\n",
              "      <td>18.03</td>\n",
              "      <td>4.01</td>\n",
              "      <td>6.58</td>\n",
              "      <td>4.60</td>\n",
              "      <td>0.259</td>\n",
              "      <td>14.81</td>\n",
              "      <td>19.67</td>\n",
              "      <td>10.67</td>\n",
              "      <td>41.20</td>\n",
              "      <td>31.62</td>\n",
              "      <td>51.87</td>\n",
              "      <td>76.28</td>\n",
              "      <td>90.02</td>\n",
              "      <td>76.41</td>\n",
              "      <td>22.29</td>\n",
              "      <td>177.54</td>\n",
              "      <td>23.87</td>\n",
              "      <td>15.49</td>\n",
              "      <td>6.10</td>\n",
              "      <td>72.33</td>\n",
              "      <td>26.23</td>\n",
              "      <td>15.91</td>\n",
              "      <td>659.28</td>\n",
              "      <td>212.16</td>\n",
              "      <td>0.0431</td>\n",
              "      <td>0.0844</td>\n",
              "      <td>0.0203</td>\n",
              "    </tr>\n",
              "    <tr>\n",
              "      <th>52</th>\n",
              "      <td>1045</td>\n",
              "      <td>Yes</td>\n",
              "      <td>No</td>\n",
              "      <td>Yes</td>\n",
              "      <td>Innie</td>\n",
              "      <td>Yes</td>\n",
              "      <td>No</td>\n",
              "      <td>No</td>\n",
              "      <td>No</td>\n",
              "      <td>No</td>\n",
              "      <td>Yes</td>\n",
              "      <td>No</td>\n",
              "      <td>Yes</td>\n",
              "      <td>Yes</td>\n",
              "      <td>No</td>\n",
              "      <td>No</td>\n",
              "      <td>Yes</td>\n",
              "      <td>No</td>\n",
              "      <td>No</td>\n",
              "      <td>No</td>\n",
              "      <td>Yes</td>\n",
              "      <td>No</td>\n",
              "      <td>No</td>\n",
              "      <td>Yes</td>\n",
              "      <td>Yes</td>\n",
              "      <td>No</td>\n",
              "      <td>No</td>\n",
              "      <td>1</td>\n",
              "      <td>1</td>\n",
              "      <td>3</td>\n",
              "      <td>4</td>\n",
              "      <td>9</td>\n",
              "      <td>2</td>\n",
              "      <td>4</td>\n",
              "      <td>3</td>\n",
              "      <td>4</td>\n",
              "      <td>3</td>\n",
              "      <td>6</td>\n",
              "      <td>4</td>\n",
              "      <td>1</td>\n",
              "      <td>...</td>\n",
              "      <td>4.37</td>\n",
              "      <td>5.00</td>\n",
              "      <td>8.71</td>\n",
              "      <td>7.48</td>\n",
              "      <td>2.46</td>\n",
              "      <td>1.450</td>\n",
              "      <td>5.11</td>\n",
              "      <td>3.89</td>\n",
              "      <td>5.76</td>\n",
              "      <td>6.98</td>\n",
              "      <td>3.07</td>\n",
              "      <td>5.51</td>\n",
              "      <td>10.91</td>\n",
              "      <td>21.65</td>\n",
              "      <td>5.14</td>\n",
              "      <td>6.91</td>\n",
              "      <td>5.21</td>\n",
              "      <td>0.254</td>\n",
              "      <td>164.35</td>\n",
              "      <td>136.87</td>\n",
              "      <td>32.73</td>\n",
              "      <td>113.27</td>\n",
              "      <td>87.67</td>\n",
              "      <td>224.90</td>\n",
              "      <td>151.54</td>\n",
              "      <td>129.00</td>\n",
              "      <td>55.31</td>\n",
              "      <td>19.37</td>\n",
              "      <td>216.52</td>\n",
              "      <td>22.44</td>\n",
              "      <td>28.38</td>\n",
              "      <td>8.68</td>\n",
              "      <td>70.27</td>\n",
              "      <td>48.26</td>\n",
              "      <td>19.41</td>\n",
              "      <td>1139.21</td>\n",
              "      <td>612.63</td>\n",
              "      <td>0.2780</td>\n",
              "      <td>0.1650</td>\n",
              "      <td>0.0386</td>\n",
              "    </tr>\n",
              "    <tr>\n",
              "      <th>53</th>\n",
              "      <td>1093</td>\n",
              "      <td>No</td>\n",
              "      <td>No</td>\n",
              "      <td>No</td>\n",
              "      <td>Innie</td>\n",
              "      <td>No</td>\n",
              "      <td>No</td>\n",
              "      <td>No</td>\n",
              "      <td>No</td>\n",
              "      <td>Yes</td>\n",
              "      <td>No</td>\n",
              "      <td>Yes</td>\n",
              "      <td>No</td>\n",
              "      <td>Yes</td>\n",
              "      <td>No</td>\n",
              "      <td>No</td>\n",
              "      <td>No</td>\n",
              "      <td>Yes</td>\n",
              "      <td>No</td>\n",
              "      <td>No</td>\n",
              "      <td>Yes</td>\n",
              "      <td>No</td>\n",
              "      <td>No</td>\n",
              "      <td>No</td>\n",
              "      <td>No</td>\n",
              "      <td>Yes</td>\n",
              "      <td>No</td>\n",
              "      <td>1</td>\n",
              "      <td>1</td>\n",
              "      <td>7</td>\n",
              "      <td>2</td>\n",
              "      <td>3</td>\n",
              "      <td>2</td>\n",
              "      <td>1</td>\n",
              "      <td>2</td>\n",
              "      <td>1</td>\n",
              "      <td>2</td>\n",
              "      <td>4</td>\n",
              "      <td>2</td>\n",
              "      <td>6</td>\n",
              "      <td>...</td>\n",
              "      <td>2.35</td>\n",
              "      <td>2.59</td>\n",
              "      <td>4.48</td>\n",
              "      <td>3.92</td>\n",
              "      <td>1.26</td>\n",
              "      <td>0.761</td>\n",
              "      <td>2.81</td>\n",
              "      <td>1.89</td>\n",
              "      <td>3.03</td>\n",
              "      <td>3.39</td>\n",
              "      <td>1.56</td>\n",
              "      <td>2.94</td>\n",
              "      <td>6.00</td>\n",
              "      <td>10.44</td>\n",
              "      <td>2.64</td>\n",
              "      <td>3.36</td>\n",
              "      <td>2.88</td>\n",
              "      <td>0.160</td>\n",
              "      <td>67.92</td>\n",
              "      <td>47.28</td>\n",
              "      <td>11.78</td>\n",
              "      <td>28.89</td>\n",
              "      <td>13.98</td>\n",
              "      <td>17.65</td>\n",
              "      <td>134.73</td>\n",
              "      <td>74.25</td>\n",
              "      <td>42.27</td>\n",
              "      <td>8.23</td>\n",
              "      <td>185.32</td>\n",
              "      <td>11.04</td>\n",
              "      <td>17.93</td>\n",
              "      <td>8.34</td>\n",
              "      <td>34.58</td>\n",
              "      <td>27.44</td>\n",
              "      <td>9.98</td>\n",
              "      <td>631.49</td>\n",
              "      <td>345.32</td>\n",
              "      <td>0.1590</td>\n",
              "      <td>0.1520</td>\n",
              "      <td>0.0313</td>\n",
              "    </tr>\n",
              "  </tbody>\n",
              "</table>\n",
              "<p>5 rows × 1093 columns</p>\n",
              "</div>"
            ],
            "text/plain": [
              "      ID cancer diabetes  ... COUMESTROL BIOCHANIN_A FORMONONETIN\n",
              "49  1129    Yes       No  ...     0.0732      0.1630       0.0175\n",
              "50  1005    Yes      Yes  ...     0.0305      0.0408       0.0113\n",
              "51  1044    Yes       No  ...     0.0431      0.0844       0.0203\n",
              "52  1045    Yes       No  ...     0.2780      0.1650       0.0386\n",
              "53  1093     No       No  ...     0.1590      0.1520       0.0313\n",
              "\n",
              "[5 rows x 1093 columns]"
            ]
          },
          "metadata": {
            "tags": []
          },
          "execution_count": 6
        }
      ]
    },
    {
      "cell_type": "code",
      "metadata": {
        "id": "PxI7_PZh9eT7",
        "outputId": "74efa61c-ddf0-49bb-fc54-94f74e67d31e",
        "colab": {
          "base_uri": "https://localhost:8080/",
          "height": 346
        }
      },
      "source": [
        "#Data Description\n",
        "df.describe()"
      ],
      "execution_count": null,
      "outputs": [
        {
          "output_type": "execute_result",
          "data": {
            "text/html": [
              "<div>\n",
              "<style scoped>\n",
              "    .dataframe tbody tr th:only-of-type {\n",
              "        vertical-align: middle;\n",
              "    }\n",
              "\n",
              "    .dataframe tbody tr th {\n",
              "        vertical-align: top;\n",
              "    }\n",
              "\n",
              "    .dataframe thead th {\n",
              "        text-align: right;\n",
              "    }\n",
              "</style>\n",
              "<table border=\"1\" class=\"dataframe\">\n",
              "  <thead>\n",
              "    <tr style=\"text-align: right;\">\n",
              "      <th></th>\n",
              "      <th>ID</th>\n",
              "      <th>BREAKFASTSANDWICHFREQ</th>\n",
              "      <th>BREAKFASTSANDWICHQUAN</th>\n",
              "      <th>EGGSFREQ</th>\n",
              "      <th>EGGSQUAN</th>\n",
              "      <th>YOGURTFREQ</th>\n",
              "      <th>YOGURTQUAN</th>\n",
              "      <th>COTTAGECHEESEFREQ</th>\n",
              "      <th>COTTAGECHEESEQUAN</th>\n",
              "      <th>CREAMCHEESEFREQ</th>\n",
              "      <th>CREAMCHEESEQUAN</th>\n",
              "      <th>SLICEDCHEESEFREQ</th>\n",
              "      <th>SLICEDCHEESEQUAN</th>\n",
              "      <th>COLDCEREALFREQ</th>\n",
              "      <th>COLDCEREALQUAN</th>\n",
              "      <th>WHOLEGRAINCEREALFREQ</th>\n",
              "      <th>WHOLEGRAINCEREALQUAN</th>\n",
              "      <th>GRITSFREQ</th>\n",
              "      <th>GRITSQUAN</th>\n",
              "      <th>MILKONCEREALFREQ</th>\n",
              "      <th>MILKONCEREALQUAN</th>\n",
              "      <th>BROWNRICEFREQ</th>\n",
              "      <th>BROWNRICEQUAN</th>\n",
              "      <th>WHITERICEFREQ</th>\n",
              "      <th>WHITERICEQUAN</th>\n",
              "      <th>PANCAKEFREQ</th>\n",
              "      <th>PANCAKEQUAN</th>\n",
              "      <th>PASTRIESFREQ</th>\n",
              "      <th>PASTRIESQUAN</th>\n",
              "      <th>BISCUITFREQ</th>\n",
              "      <th>BISCUITQUAN</th>\n",
              "      <th>CORNBREADFREQ</th>\n",
              "      <th>CORNBREADQUAN</th>\n",
              "      <th>BUNSFREQ</th>\n",
              "      <th>BUNSQUAN</th>\n",
              "      <th>BAGELFREQ</th>\n",
              "      <th>BAGELQUAN</th>\n",
              "      <th>TORTILLASFREQ</th>\n",
              "      <th>TORTILLASQUAN</th>\n",
              "      <th>OTHERBREADSFREQ</th>\n",
              "      <th>...</th>\n",
              "      <th>THR_G</th>\n",
              "      <th>ILE_G</th>\n",
              "      <th>LEU_G</th>\n",
              "      <th>LYS_G</th>\n",
              "      <th>MET_G</th>\n",
              "      <th>CYS_G</th>\n",
              "      <th>PHE_G</th>\n",
              "      <th>TYR_G</th>\n",
              "      <th>VAL_G</th>\n",
              "      <th>ARG_G</th>\n",
              "      <th>HISTN_G</th>\n",
              "      <th>ALA_G</th>\n",
              "      <th>ASP_G</th>\n",
              "      <th>GLU_G</th>\n",
              "      <th>GLY_G</th>\n",
              "      <th>PRO_G</th>\n",
              "      <th>SER_G</th>\n",
              "      <th>HYP</th>\n",
              "      <th>PAC_1</th>\n",
              "      <th>PAC_2</th>\n",
              "      <th>PAC_3</th>\n",
              "      <th>PAC_4</th>\n",
              "      <th>PAC_7</th>\n",
              "      <th>PAC10</th>\n",
              "      <th>BETN_C</th>\n",
              "      <th>CHOLNFR</th>\n",
              "      <th>CHOLNGPC</th>\n",
              "      <th>CHOLNPC</th>\n",
              "      <th>CHOLNPTC</th>\n",
              "      <th>CHOLNSM</th>\n",
              "      <th>DT_FIBER_INSOL</th>\n",
              "      <th>DT_FIBER_SOL</th>\n",
              "      <th>DT_PROT_ANIMAL</th>\n",
              "      <th>DT_PROT_VEGETABLE</th>\n",
              "      <th>DT_NITROGEN</th>\n",
              "      <th>PHYTIC_ACID</th>\n",
              "      <th>OXALIC_ACID</th>\n",
              "      <th>COUMESTROL</th>\n",
              "      <th>BIOCHANIN_A</th>\n",
              "      <th>FORMONONETIN</th>\n",
              "    </tr>\n",
              "  </thead>\n",
              "  <tbody>\n",
              "    <tr>\n",
              "      <th>count</th>\n",
              "      <td>54.000000</td>\n",
              "      <td>54.000000</td>\n",
              "      <td>54.000000</td>\n",
              "      <td>54.000000</td>\n",
              "      <td>54.000000</td>\n",
              "      <td>54.000000</td>\n",
              "      <td>54.000000</td>\n",
              "      <td>54.000000</td>\n",
              "      <td>54.000000</td>\n",
              "      <td>54.000000</td>\n",
              "      <td>54.000000</td>\n",
              "      <td>54.000000</td>\n",
              "      <td>54.000000</td>\n",
              "      <td>54.000000</td>\n",
              "      <td>54.000000</td>\n",
              "      <td>54.000000</td>\n",
              "      <td>54.000000</td>\n",
              "      <td>54.000000</td>\n",
              "      <td>54.000000</td>\n",
              "      <td>54.000000</td>\n",
              "      <td>54.0</td>\n",
              "      <td>54.000000</td>\n",
              "      <td>54.000000</td>\n",
              "      <td>54.000000</td>\n",
              "      <td>54.000000</td>\n",
              "      <td>54.000000</td>\n",
              "      <td>54.000000</td>\n",
              "      <td>54.000000</td>\n",
              "      <td>54.000000</td>\n",
              "      <td>54.000000</td>\n",
              "      <td>54.000000</td>\n",
              "      <td>54.000000</td>\n",
              "      <td>54.000000</td>\n",
              "      <td>54.000000</td>\n",
              "      <td>54.000000</td>\n",
              "      <td>54.000000</td>\n",
              "      <td>54.000000</td>\n",
              "      <td>54.000000</td>\n",
              "      <td>54.000000</td>\n",
              "      <td>54.000000</td>\n",
              "      <td>...</td>\n",
              "      <td>54.000000</td>\n",
              "      <td>54.000000</td>\n",
              "      <td>54.000000</td>\n",
              "      <td>54.000000</td>\n",
              "      <td>54.000000</td>\n",
              "      <td>54.000000</td>\n",
              "      <td>54.000000</td>\n",
              "      <td>54.000000</td>\n",
              "      <td>54.000000</td>\n",
              "      <td>54.000000</td>\n",
              "      <td>54.000000</td>\n",
              "      <td>54.000000</td>\n",
              "      <td>54.000000</td>\n",
              "      <td>54.000000</td>\n",
              "      <td>54.000000</td>\n",
              "      <td>54.000000</td>\n",
              "      <td>54.000000</td>\n",
              "      <td>54.000000</td>\n",
              "      <td>54.000000</td>\n",
              "      <td>54.000000</td>\n",
              "      <td>54.000000</td>\n",
              "      <td>54.000000</td>\n",
              "      <td>54.000000</td>\n",
              "      <td>54.00000</td>\n",
              "      <td>54.000000</td>\n",
              "      <td>54.00000</td>\n",
              "      <td>54.000000</td>\n",
              "      <td>54.000000</td>\n",
              "      <td>54.000000</td>\n",
              "      <td>54.000000</td>\n",
              "      <td>54.000000</td>\n",
              "      <td>54.000000</td>\n",
              "      <td>54.000000</td>\n",
              "      <td>54.000000</td>\n",
              "      <td>54.000000</td>\n",
              "      <td>54.000000</td>\n",
              "      <td>54.000000</td>\n",
              "      <td>54.000000</td>\n",
              "      <td>54.000000</td>\n",
              "      <td>54.000000</td>\n",
              "    </tr>\n",
              "    <tr>\n",
              "      <th>mean</th>\n",
              "      <td>1082.944444</td>\n",
              "      <td>2.907407</td>\n",
              "      <td>1.037037</td>\n",
              "      <td>4.777778</td>\n",
              "      <td>2.166667</td>\n",
              "      <td>5.111111</td>\n",
              "      <td>2.555556</td>\n",
              "      <td>1.944444</td>\n",
              "      <td>1.851852</td>\n",
              "      <td>2.925926</td>\n",
              "      <td>2.203704</td>\n",
              "      <td>6.425926</td>\n",
              "      <td>1.777778</td>\n",
              "      <td>3.814815</td>\n",
              "      <td>3.092593</td>\n",
              "      <td>3.481481</td>\n",
              "      <td>2.444444</td>\n",
              "      <td>1.611111</td>\n",
              "      <td>2.148148</td>\n",
              "      <td>3.611111</td>\n",
              "      <td>2.0</td>\n",
              "      <td>3.277778</td>\n",
              "      <td>2.666667</td>\n",
              "      <td>3.722222</td>\n",
              "      <td>2.796296</td>\n",
              "      <td>2.370370</td>\n",
              "      <td>1.981481</td>\n",
              "      <td>2.666667</td>\n",
              "      <td>1.833333</td>\n",
              "      <td>1.925926</td>\n",
              "      <td>1.703704</td>\n",
              "      <td>1.814815</td>\n",
              "      <td>2.185185</td>\n",
              "      <td>3.277778</td>\n",
              "      <td>2.074074</td>\n",
              "      <td>3.796296</td>\n",
              "      <td>2.185185</td>\n",
              "      <td>3.055556</td>\n",
              "      <td>1.481481</td>\n",
              "      <td>5.629630</td>\n",
              "      <td>...</td>\n",
              "      <td>3.022852</td>\n",
              "      <td>3.491111</td>\n",
              "      <td>6.146481</td>\n",
              "      <td>5.130370</td>\n",
              "      <td>1.706815</td>\n",
              "      <td>1.025907</td>\n",
              "      <td>3.610370</td>\n",
              "      <td>2.718500</td>\n",
              "      <td>4.101667</td>\n",
              "      <td>4.330185</td>\n",
              "      <td>2.122407</td>\n",
              "      <td>3.653148</td>\n",
              "      <td>7.139074</td>\n",
              "      <td>15.344259</td>\n",
              "      <td>3.271519</td>\n",
              "      <td>5.339444</td>\n",
              "      <td>3.742593</td>\n",
              "      <td>0.230252</td>\n",
              "      <td>35.675741</td>\n",
              "      <td>30.124444</td>\n",
              "      <td>10.735556</td>\n",
              "      <td>32.983704</td>\n",
              "      <td>21.613704</td>\n",
              "      <td>41.42463</td>\n",
              "      <td>118.763519</td>\n",
              "      <td>83.75963</td>\n",
              "      <td>48.158704</td>\n",
              "      <td>12.805556</td>\n",
              "      <td>176.548519</td>\n",
              "      <td>16.349259</td>\n",
              "      <td>17.042963</td>\n",
              "      <td>6.380185</td>\n",
              "      <td>48.718889</td>\n",
              "      <td>31.468148</td>\n",
              "      <td>12.971481</td>\n",
              "      <td>716.141481</td>\n",
              "      <td>300.829630</td>\n",
              "      <td>0.076205</td>\n",
              "      <td>0.117751</td>\n",
              "      <td>0.019095</td>\n",
              "    </tr>\n",
              "    <tr>\n",
              "      <th>std</th>\n",
              "      <td>54.289725</td>\n",
              "      <td>2.002532</td>\n",
              "      <td>0.190626</td>\n",
              "      <td>2.006279</td>\n",
              "      <td>0.770934</td>\n",
              "      <td>2.567332</td>\n",
              "      <td>0.537874</td>\n",
              "      <td>1.139624</td>\n",
              "      <td>0.528701</td>\n",
              "      <td>1.680654</td>\n",
              "      <td>0.786193</td>\n",
              "      <td>2.375995</td>\n",
              "      <td>0.904218</td>\n",
              "      <td>2.685208</td>\n",
              "      <td>0.591401</td>\n",
              "      <td>2.400792</td>\n",
              "      <td>0.691366</td>\n",
              "      <td>0.979346</td>\n",
              "      <td>0.407820</td>\n",
              "      <td>2.535906</td>\n",
              "      <td>0.0</td>\n",
              "      <td>1.379317</td>\n",
              "      <td>0.614295</td>\n",
              "      <td>1.618486</td>\n",
              "      <td>0.655301</td>\n",
              "      <td>1.051437</td>\n",
              "      <td>0.900539</td>\n",
              "      <td>1.529583</td>\n",
              "      <td>0.693637</td>\n",
              "      <td>1.329660</td>\n",
              "      <td>0.903445</td>\n",
              "      <td>0.825857</td>\n",
              "      <td>0.516668</td>\n",
              "      <td>1.653089</td>\n",
              "      <td>0.264351</td>\n",
              "      <td>1.826220</td>\n",
              "      <td>0.551980</td>\n",
              "      <td>1.985007</td>\n",
              "      <td>0.693385</td>\n",
              "      <td>2.436331</td>\n",
              "      <td>...</td>\n",
              "      <td>1.322884</td>\n",
              "      <td>1.519430</td>\n",
              "      <td>2.621485</td>\n",
              "      <td>2.312204</td>\n",
              "      <td>0.774271</td>\n",
              "      <td>0.451087</td>\n",
              "      <td>1.514374</td>\n",
              "      <td>1.171725</td>\n",
              "      <td>1.746499</td>\n",
              "      <td>1.894403</td>\n",
              "      <td>0.927199</td>\n",
              "      <td>1.596879</td>\n",
              "      <td>3.059141</td>\n",
              "      <td>6.401207</td>\n",
              "      <td>1.439749</td>\n",
              "      <td>2.228802</td>\n",
              "      <td>1.587863</td>\n",
              "      <td>0.164973</td>\n",
              "      <td>33.548072</td>\n",
              "      <td>24.557925</td>\n",
              "      <td>8.683236</td>\n",
              "      <td>30.691698</td>\n",
              "      <td>21.712277</td>\n",
              "      <td>43.14993</td>\n",
              "      <td>63.213420</td>\n",
              "      <td>33.44011</td>\n",
              "      <td>20.180390</td>\n",
              "      <td>6.157104</td>\n",
              "      <td>102.841893</td>\n",
              "      <td>9.231865</td>\n",
              "      <td>12.029976</td>\n",
              "      <td>4.504451</td>\n",
              "      <td>26.377259</td>\n",
              "      <td>17.537810</td>\n",
              "      <td>5.429278</td>\n",
              "      <td>387.065563</td>\n",
              "      <td>251.924787</td>\n",
              "      <td>0.077811</td>\n",
              "      <td>0.130347</td>\n",
              "      <td>0.029777</td>\n",
              "    </tr>\n",
              "    <tr>\n",
              "      <th>min</th>\n",
              "      <td>1001.000000</td>\n",
              "      <td>1.000000</td>\n",
              "      <td>1.000000</td>\n",
              "      <td>1.000000</td>\n",
              "      <td>1.000000</td>\n",
              "      <td>1.000000</td>\n",
              "      <td>2.000000</td>\n",
              "      <td>1.000000</td>\n",
              "      <td>1.000000</td>\n",
              "      <td>1.000000</td>\n",
              "      <td>1.000000</td>\n",
              "      <td>1.000000</td>\n",
              "      <td>1.000000</td>\n",
              "      <td>1.000000</td>\n",
              "      <td>2.000000</td>\n",
              "      <td>1.000000</td>\n",
              "      <td>1.000000</td>\n",
              "      <td>1.000000</td>\n",
              "      <td>1.000000</td>\n",
              "      <td>1.000000</td>\n",
              "      <td>2.0</td>\n",
              "      <td>1.000000</td>\n",
              "      <td>2.000000</td>\n",
              "      <td>1.000000</td>\n",
              "      <td>2.000000</td>\n",
              "      <td>1.000000</td>\n",
              "      <td>1.000000</td>\n",
              "      <td>1.000000</td>\n",
              "      <td>1.000000</td>\n",
              "      <td>1.000000</td>\n",
              "      <td>1.000000</td>\n",
              "      <td>1.000000</td>\n",
              "      <td>1.000000</td>\n",
              "      <td>1.000000</td>\n",
              "      <td>2.000000</td>\n",
              "      <td>1.000000</td>\n",
              "      <td>1.000000</td>\n",
              "      <td>1.000000</td>\n",
              "      <td>1.000000</td>\n",
              "      <td>1.000000</td>\n",
              "      <td>...</td>\n",
              "      <td>0.904000</td>\n",
              "      <td>1.060000</td>\n",
              "      <td>1.910000</td>\n",
              "      <td>1.370000</td>\n",
              "      <td>0.503000</td>\n",
              "      <td>0.314000</td>\n",
              "      <td>1.120000</td>\n",
              "      <td>0.843000</td>\n",
              "      <td>1.270000</td>\n",
              "      <td>1.220000</td>\n",
              "      <td>0.648000</td>\n",
              "      <td>1.090000</td>\n",
              "      <td>2.080000</td>\n",
              "      <td>5.180000</td>\n",
              "      <td>0.982000</td>\n",
              "      <td>1.980000</td>\n",
              "      <td>1.140000</td>\n",
              "      <td>0.029900</td>\n",
              "      <td>2.650000</td>\n",
              "      <td>4.690000</td>\n",
              "      <td>2.280000</td>\n",
              "      <td>6.120000</td>\n",
              "      <td>1.780000</td>\n",
              "      <td>3.15000</td>\n",
              "      <td>28.210000</td>\n",
              "      <td>32.53000</td>\n",
              "      <td>19.730000</td>\n",
              "      <td>3.290000</td>\n",
              "      <td>39.080000</td>\n",
              "      <td>3.500000</td>\n",
              "      <td>5.550000</td>\n",
              "      <td>1.250000</td>\n",
              "      <td>8.270000</td>\n",
              "      <td>7.610000</td>\n",
              "      <td>4.110000</td>\n",
              "      <td>191.740000</td>\n",
              "      <td>80.650000</td>\n",
              "      <td>0.001350</td>\n",
              "      <td>0.008160</td>\n",
              "      <td>0.000613</td>\n",
              "    </tr>\n",
              "    <tr>\n",
              "      <th>25%</th>\n",
              "      <td>1043.250000</td>\n",
              "      <td>1.250000</td>\n",
              "      <td>1.000000</td>\n",
              "      <td>4.000000</td>\n",
              "      <td>2.000000</td>\n",
              "      <td>3.000000</td>\n",
              "      <td>2.000000</td>\n",
              "      <td>1.000000</td>\n",
              "      <td>2.000000</td>\n",
              "      <td>2.000000</td>\n",
              "      <td>2.000000</td>\n",
              "      <td>5.000000</td>\n",
              "      <td>1.000000</td>\n",
              "      <td>1.250000</td>\n",
              "      <td>3.000000</td>\n",
              "      <td>1.000000</td>\n",
              "      <td>2.000000</td>\n",
              "      <td>1.000000</td>\n",
              "      <td>2.000000</td>\n",
              "      <td>1.000000</td>\n",
              "      <td>2.0</td>\n",
              "      <td>2.000000</td>\n",
              "      <td>2.000000</td>\n",
              "      <td>2.000000</td>\n",
              "      <td>2.000000</td>\n",
              "      <td>2.000000</td>\n",
              "      <td>1.000000</td>\n",
              "      <td>1.000000</td>\n",
              "      <td>1.000000</td>\n",
              "      <td>1.000000</td>\n",
              "      <td>1.000000</td>\n",
              "      <td>1.000000</td>\n",
              "      <td>2.000000</td>\n",
              "      <td>2.000000</td>\n",
              "      <td>2.000000</td>\n",
              "      <td>2.000000</td>\n",
              "      <td>2.000000</td>\n",
              "      <td>1.000000</td>\n",
              "      <td>1.000000</td>\n",
              "      <td>4.000000</td>\n",
              "      <td>...</td>\n",
              "      <td>2.087500</td>\n",
              "      <td>2.450000</td>\n",
              "      <td>4.312500</td>\n",
              "      <td>3.500000</td>\n",
              "      <td>1.140000</td>\n",
              "      <td>0.733250</td>\n",
              "      <td>2.522500</td>\n",
              "      <td>1.892500</td>\n",
              "      <td>2.922500</td>\n",
              "      <td>2.967500</td>\n",
              "      <td>1.432500</td>\n",
              "      <td>2.535000</td>\n",
              "      <td>4.767500</td>\n",
              "      <td>10.917500</td>\n",
              "      <td>2.307500</td>\n",
              "      <td>3.712500</td>\n",
              "      <td>2.652500</td>\n",
              "      <td>0.098825</td>\n",
              "      <td>13.057500</td>\n",
              "      <td>14.790000</td>\n",
              "      <td>5.415000</td>\n",
              "      <td>13.610000</td>\n",
              "      <td>8.250000</td>\n",
              "      <td>13.75750</td>\n",
              "      <td>78.102500</td>\n",
              "      <td>58.87250</td>\n",
              "      <td>33.067500</td>\n",
              "      <td>8.415000</td>\n",
              "      <td>101.832500</td>\n",
              "      <td>9.112500</td>\n",
              "      <td>10.320000</td>\n",
              "      <td>3.495000</td>\n",
              "      <td>30.270000</td>\n",
              "      <td>21.017500</td>\n",
              "      <td>8.972500</td>\n",
              "      <td>503.180000</td>\n",
              "      <td>144.770000</td>\n",
              "      <td>0.013850</td>\n",
              "      <td>0.050775</td>\n",
              "      <td>0.006355</td>\n",
              "    </tr>\n",
              "    <tr>\n",
              "      <th>50%</th>\n",
              "      <td>1075.500000</td>\n",
              "      <td>2.000000</td>\n",
              "      <td>1.000000</td>\n",
              "      <td>4.000000</td>\n",
              "      <td>2.000000</td>\n",
              "      <td>5.000000</td>\n",
              "      <td>3.000000</td>\n",
              "      <td>2.000000</td>\n",
              "      <td>2.000000</td>\n",
              "      <td>2.000000</td>\n",
              "      <td>2.000000</td>\n",
              "      <td>7.000000</td>\n",
              "      <td>2.000000</td>\n",
              "      <td>3.000000</td>\n",
              "      <td>3.000000</td>\n",
              "      <td>3.000000</td>\n",
              "      <td>2.000000</td>\n",
              "      <td>1.000000</td>\n",
              "      <td>2.000000</td>\n",
              "      <td>3.000000</td>\n",
              "      <td>2.0</td>\n",
              "      <td>4.000000</td>\n",
              "      <td>3.000000</td>\n",
              "      <td>4.000000</td>\n",
              "      <td>3.000000</td>\n",
              "      <td>2.000000</td>\n",
              "      <td>2.000000</td>\n",
              "      <td>2.000000</td>\n",
              "      <td>2.000000</td>\n",
              "      <td>2.000000</td>\n",
              "      <td>1.000000</td>\n",
              "      <td>2.000000</td>\n",
              "      <td>2.000000</td>\n",
              "      <td>3.000000</td>\n",
              "      <td>2.000000</td>\n",
              "      <td>4.000000</td>\n",
              "      <td>2.000000</td>\n",
              "      <td>2.500000</td>\n",
              "      <td>1.000000</td>\n",
              "      <td>5.000000</td>\n",
              "      <td>...</td>\n",
              "      <td>2.890000</td>\n",
              "      <td>3.360000</td>\n",
              "      <td>6.015000</td>\n",
              "      <td>4.735000</td>\n",
              "      <td>1.645000</td>\n",
              "      <td>1.005000</td>\n",
              "      <td>3.545000</td>\n",
              "      <td>2.760000</td>\n",
              "      <td>4.030000</td>\n",
              "      <td>4.115000</td>\n",
              "      <td>1.980000</td>\n",
              "      <td>3.395000</td>\n",
              "      <td>6.820000</td>\n",
              "      <td>14.505000</td>\n",
              "      <td>3.070000</td>\n",
              "      <td>5.130000</td>\n",
              "      <td>3.725000</td>\n",
              "      <td>0.196500</td>\n",
              "      <td>22.685000</td>\n",
              "      <td>21.330000</td>\n",
              "      <td>9.355000</td>\n",
              "      <td>24.965000</td>\n",
              "      <td>15.775000</td>\n",
              "      <td>30.77500</td>\n",
              "      <td>103.855000</td>\n",
              "      <td>74.08000</td>\n",
              "      <td>43.440000</td>\n",
              "      <td>11.730000</td>\n",
              "      <td>156.185000</td>\n",
              "      <td>15.135000</td>\n",
              "      <td>15.035000</td>\n",
              "      <td>5.070000</td>\n",
              "      <td>46.380000</td>\n",
              "      <td>28.345000</td>\n",
              "      <td>12.205000</td>\n",
              "      <td>613.910000</td>\n",
              "      <td>212.785000</td>\n",
              "      <td>0.050350</td>\n",
              "      <td>0.081800</td>\n",
              "      <td>0.011650</td>\n",
              "    </tr>\n",
              "    <tr>\n",
              "      <th>75%</th>\n",
              "      <td>1126.750000</td>\n",
              "      <td>4.000000</td>\n",
              "      <td>1.000000</td>\n",
              "      <td>6.750000</td>\n",
              "      <td>2.000000</td>\n",
              "      <td>7.000000</td>\n",
              "      <td>3.000000</td>\n",
              "      <td>2.000000</td>\n",
              "      <td>2.000000</td>\n",
              "      <td>4.000000</td>\n",
              "      <td>3.000000</td>\n",
              "      <td>8.000000</td>\n",
              "      <td>2.000000</td>\n",
              "      <td>6.000000</td>\n",
              "      <td>3.000000</td>\n",
              "      <td>5.000000</td>\n",
              "      <td>3.000000</td>\n",
              "      <td>2.000000</td>\n",
              "      <td>2.000000</td>\n",
              "      <td>5.750000</td>\n",
              "      <td>2.0</td>\n",
              "      <td>4.000000</td>\n",
              "      <td>3.000000</td>\n",
              "      <td>5.000000</td>\n",
              "      <td>3.000000</td>\n",
              "      <td>3.000000</td>\n",
              "      <td>3.000000</td>\n",
              "      <td>4.000000</td>\n",
              "      <td>2.000000</td>\n",
              "      <td>2.000000</td>\n",
              "      <td>2.000000</td>\n",
              "      <td>2.000000</td>\n",
              "      <td>2.000000</td>\n",
              "      <td>4.000000</td>\n",
              "      <td>2.000000</td>\n",
              "      <td>5.000000</td>\n",
              "      <td>2.000000</td>\n",
              "      <td>4.000000</td>\n",
              "      <td>2.000000</td>\n",
              "      <td>7.750000</td>\n",
              "      <td>...</td>\n",
              "      <td>3.515000</td>\n",
              "      <td>4.115000</td>\n",
              "      <td>7.212500</td>\n",
              "      <td>6.377500</td>\n",
              "      <td>2.037500</td>\n",
              "      <td>1.172500</td>\n",
              "      <td>4.102500</td>\n",
              "      <td>3.237500</td>\n",
              "      <td>4.727500</td>\n",
              "      <td>5.180000</td>\n",
              "      <td>2.580000</td>\n",
              "      <td>4.480000</td>\n",
              "      <td>8.197500</td>\n",
              "      <td>17.825000</td>\n",
              "      <td>4.007500</td>\n",
              "      <td>6.347500</td>\n",
              "      <td>4.187500</td>\n",
              "      <td>0.268250</td>\n",
              "      <td>50.592500</td>\n",
              "      <td>37.552500</td>\n",
              "      <td>12.177500</td>\n",
              "      <td>39.315000</td>\n",
              "      <td>25.282500</td>\n",
              "      <td>49.61000</td>\n",
              "      <td>141.005000</td>\n",
              "      <td>108.68750</td>\n",
              "      <td>61.502500</td>\n",
              "      <td>15.020000</td>\n",
              "      <td>212.490000</td>\n",
              "      <td>20.960000</td>\n",
              "      <td>20.080000</td>\n",
              "      <td>8.125000</td>\n",
              "      <td>63.965000</td>\n",
              "      <td>36.060000</td>\n",
              "      <td>15.220000</td>\n",
              "      <td>841.542500</td>\n",
              "      <td>347.097500</td>\n",
              "      <td>0.104375</td>\n",
              "      <td>0.138000</td>\n",
              "      <td>0.019525</td>\n",
              "    </tr>\n",
              "    <tr>\n",
              "      <th>max</th>\n",
              "      <td>1192.000000</td>\n",
              "      <td>9.000000</td>\n",
              "      <td>2.000000</td>\n",
              "      <td>9.000000</td>\n",
              "      <td>4.000000</td>\n",
              "      <td>9.000000</td>\n",
              "      <td>4.000000</td>\n",
              "      <td>6.000000</td>\n",
              "      <td>3.000000</td>\n",
              "      <td>8.000000</td>\n",
              "      <td>4.000000</td>\n",
              "      <td>9.000000</td>\n",
              "      <td>4.000000</td>\n",
              "      <td>9.000000</td>\n",
              "      <td>4.000000</td>\n",
              "      <td>9.000000</td>\n",
              "      <td>4.000000</td>\n",
              "      <td>5.000000</td>\n",
              "      <td>3.000000</td>\n",
              "      <td>9.000000</td>\n",
              "      <td>2.0</td>\n",
              "      <td>6.000000</td>\n",
              "      <td>4.000000</td>\n",
              "      <td>7.000000</td>\n",
              "      <td>4.000000</td>\n",
              "      <td>4.000000</td>\n",
              "      <td>4.000000</td>\n",
              "      <td>7.000000</td>\n",
              "      <td>3.000000</td>\n",
              "      <td>7.000000</td>\n",
              "      <td>4.000000</td>\n",
              "      <td>4.000000</td>\n",
              "      <td>4.000000</td>\n",
              "      <td>7.000000</td>\n",
              "      <td>3.000000</td>\n",
              "      <td>9.000000</td>\n",
              "      <td>4.000000</td>\n",
              "      <td>8.000000</td>\n",
              "      <td>3.000000</td>\n",
              "      <td>9.000000</td>\n",
              "      <td>...</td>\n",
              "      <td>7.330000</td>\n",
              "      <td>8.450000</td>\n",
              "      <td>14.730000</td>\n",
              "      <td>12.260000</td>\n",
              "      <td>4.180000</td>\n",
              "      <td>2.520000</td>\n",
              "      <td>8.640000</td>\n",
              "      <td>6.730000</td>\n",
              "      <td>9.860000</td>\n",
              "      <td>10.240000</td>\n",
              "      <td>5.280000</td>\n",
              "      <td>8.660000</td>\n",
              "      <td>16.710000</td>\n",
              "      <td>38.520000</td>\n",
              "      <td>7.820000</td>\n",
              "      <td>13.550000</td>\n",
              "      <td>8.890000</td>\n",
              "      <td>0.858000</td>\n",
              "      <td>164.350000</td>\n",
              "      <td>136.870000</td>\n",
              "      <td>51.030000</td>\n",
              "      <td>170.340000</td>\n",
              "      <td>105.620000</td>\n",
              "      <td>224.90000</td>\n",
              "      <td>325.940000</td>\n",
              "      <td>174.85000</td>\n",
              "      <td>102.340000</td>\n",
              "      <td>38.440000</td>\n",
              "      <td>502.790000</td>\n",
              "      <td>46.080000</td>\n",
              "      <td>85.270000</td>\n",
              "      <td>30.890000</td>\n",
              "      <td>128.360000</td>\n",
              "      <td>110.690000</td>\n",
              "      <td>31.400000</td>\n",
              "      <td>2223.550000</td>\n",
              "      <td>1715.790000</td>\n",
              "      <td>0.283000</td>\n",
              "      <td>0.782000</td>\n",
              "      <td>0.190000</td>\n",
              "    </tr>\n",
              "  </tbody>\n",
              "</table>\n",
              "<p>8 rows × 1067 columns</p>\n",
              "</div>"
            ],
            "text/plain": [
              "                ID  BREAKFASTSANDWICHFREQ  ...  BIOCHANIN_A  FORMONONETIN\n",
              "count    54.000000              54.000000  ...    54.000000     54.000000\n",
              "mean   1082.944444               2.907407  ...     0.117751      0.019095\n",
              "std      54.289725               2.002532  ...     0.130347      0.029777\n",
              "min    1001.000000               1.000000  ...     0.008160      0.000613\n",
              "25%    1043.250000               1.250000  ...     0.050775      0.006355\n",
              "50%    1075.500000               2.000000  ...     0.081800      0.011650\n",
              "75%    1126.750000               4.000000  ...     0.138000      0.019525\n",
              "max    1192.000000               9.000000  ...     0.782000      0.190000\n",
              "\n",
              "[8 rows x 1067 columns]"
            ]
          },
          "metadata": {
            "tags": []
          },
          "execution_count": 7
        }
      ]
    },
    {
      "cell_type": "code",
      "metadata": {
        "id": "p12dLsXI9eN7",
        "outputId": "415397ec-d544-4fab-bfc4-ffb9de309887",
        "colab": {
          "base_uri": "https://localhost:8080/",
          "height": 221
        }
      },
      "source": [
        "#find null values and take care of missing data(if any)\n",
        "df.isnull().sum()"
      ],
      "execution_count": null,
      "outputs": [
        {
          "output_type": "execute_result",
          "data": {
            "text/plain": [
              "ID               0\n",
              "cancer           0\n",
              "diabetes         0\n",
              "heart_disease    0\n",
              "belly            0\n",
              "                ..\n",
              "PHYTIC_ACID      0\n",
              "OXALIC_ACID      0\n",
              "COUMESTROL       0\n",
              "BIOCHANIN_A      0\n",
              "FORMONONETIN     0\n",
              "Length: 1093, dtype: int64"
            ]
          },
          "metadata": {
            "tags": []
          },
          "execution_count": 8
        }
      ]
    },
    {
      "cell_type": "code",
      "metadata": {
        "id": "3fJ9Xs_zzMCl",
        "outputId": "cf29e4ba-4318-4ac4-8678-03287ee0102a",
        "colab": {
          "base_uri": "https://localhost:8080/",
          "height": 34
        }
      },
      "source": [
        "df.shape"
      ],
      "execution_count": null,
      "outputs": [
        {
          "output_type": "execute_result",
          "data": {
            "text/plain": [
              "(54, 1093)"
            ]
          },
          "metadata": {
            "tags": []
          },
          "execution_count": 9
        }
      ]
    },
    {
      "cell_type": "code",
      "metadata": {
        "id": "wztMynPRDjul",
        "outputId": "8a7c88d6-4c25-4c4e-f82d-d54ad0875e11",
        "colab": {
          "base_uri": "https://localhost:8080/",
          "height": 221
        }
      },
      "source": [
        "df.dtypes"
      ],
      "execution_count": null,
      "outputs": [
        {
          "output_type": "execute_result",
          "data": {
            "text/plain": [
              "ID                 int64\n",
              "cancer            object\n",
              "diabetes          object\n",
              "heart_disease     object\n",
              "belly             object\n",
              "                  ...   \n",
              "PHYTIC_ACID      float64\n",
              "OXALIC_ACID      float64\n",
              "COUMESTROL       float64\n",
              "BIOCHANIN_A      float64\n",
              "FORMONONETIN     float64\n",
              "Length: 1093, dtype: object"
            ]
          },
          "metadata": {
            "tags": []
          },
          "execution_count": 10
        }
      ]
    },
    {
      "cell_type": "code",
      "metadata": {
        "id": "U05LcCkK9eBA",
        "outputId": "38bada2a-62ff-45e5-f213-b65db0fccd8a",
        "colab": {
          "base_uri": "https://localhost:8080/",
          "height": 52
        }
      },
      "source": [
        "##In this data set n<p(54,1093)\n",
        "##where n=number of observations\n",
        "##and p= number of variables\n",
        "## estimated variance will be infinte.\n",
        "##It causes over fitting as the model will fit properly into training dataset but will fail to familiarize with the testing data set(new data)\n",
        "##For this we will use subset selection: It involves pinpointing a subset of p that we believe to have good relationship with the target variable\n",
        "##For the first model(Desicion Tree) we will be using the following p variables\n",
        "'''\n",
        "smoke_often\n",
        "df['total_quantity_eggs'] = df['EGGSFREQ'] + df['EGGSQUAN']\n",
        "df['total_quantity_cottagecheese'] = df['COTTAGECHEESEFREQ'] + df['COTTAGECHEESEQUAN']\n",
        "df['total_quantity_avocado'] = df['AVOCADOFREQ'] + ['AVOCADOQUAN']\n",
        "df['total_quantity_cake'] = df['CAKESFREQ'] + df['CAKESQUAN']\n",
        "df['total_quantity_beer'] = df['BEERFREQ'] + df['BEERQUAN']\n",
        "df[total_quantity_wholegrain'] = df['WHOLEGRAINCEREALFREQ'] + df['WHOLEGRAINCEREALQUAN']\n",
        "'''\n",
        "##with target variable df['cancer']"
      ],
      "execution_count": null,
      "outputs": [
        {
          "output_type": "execute_result",
          "data": {
            "application/vnd.google.colaboratory.intrinsic": {
              "type": "string"
            },
            "text/plain": [
              "\"\\nsmoke_often\\ndf['total_quantity_eggs'] = df['EGGSFREQ'] + df['EGGSQUAN']\\ndf['total_quantity_cottagecheese'] = df['COTTAGECHEESEFREQ'] + df['COTTAGECHEESEQUAN']\\ndf['total_quantity_avocado'] = df['AVOCADOFREQ'] + ['AVOCADOQUAN']\\ndf['total_quantity_cake'] = df['CAKESFREQ'] + df['CAKESQUAN']\\ndf['total_quantity_beer'] = df['BEERFREQ'] + df['BEERQUAN']\\ndf[total_quantity_wholegrain'] = df['WHOLEGRAINCEREALFREQ'] + df['WHOLEGRAINCEREALQUAN']\\n\""
            ]
          },
          "metadata": {
            "tags": []
          },
          "execution_count": 11
        }
      ]
    },
    {
      "cell_type": "code",
      "metadata": {
        "id": "zVwdnw9W9d_6"
      },
      "source": [
        "df['total_quantity_eggs'] = df['EGGSFREQ'] * df['EGGSQUAN']\n",
        "df['total_quantity_cottagecheese'] = df['COTTAGECHEESEFREQ'] * df['COTTAGECHEESEQUAN']\n",
        "df['total_quantity_avocado'] = df['AVOCADOFREQ'] * df['AVOCADOQUAN']\n",
        "df['total_quantity_cake'] = df['CAKESFREQ'] * df['CAKESQUAN']\n",
        "df['total_quantity_beer'] = df['BEERFREQ'] * df['BEERQUAN']\n",
        "df['total_quantity_wholegrain'] = df['WHOLEGRAINCEREALFREQ'] * df['WHOLEGRAINCEREALQUAN']"
      ],
      "execution_count": null,
      "outputs": []
    },
    {
      "cell_type": "code",
      "metadata": {
        "id": "5Hbrp1WU9d6w"
      },
      "source": [
        "df=df[['smoke_often','total_quantity_eggs','total_quantity_cottagecheese','total_quantity_avocado','total_quantity_cake','total_quantity_beer','total_quantity_wholegrain','cancer']]"
      ],
      "execution_count": null,
      "outputs": []
    },
    {
      "cell_type": "code",
      "metadata": {
        "id": "DEBzRuxh9d5p",
        "outputId": "4d3e44a3-0a6d-42c5-9c5d-219592c0ad07",
        "colab": {
          "base_uri": "https://localhost:8080/",
          "height": 204
        }
      },
      "source": [
        "df.head(5)"
      ],
      "execution_count": null,
      "outputs": [
        {
          "output_type": "execute_result",
          "data": {
            "text/html": [
              "<div>\n",
              "<style scoped>\n",
              "    .dataframe tbody tr th:only-of-type {\n",
              "        vertical-align: middle;\n",
              "    }\n",
              "\n",
              "    .dataframe tbody tr th {\n",
              "        vertical-align: top;\n",
              "    }\n",
              "\n",
              "    .dataframe thead th {\n",
              "        text-align: right;\n",
              "    }\n",
              "</style>\n",
              "<table border=\"1\" class=\"dataframe\">\n",
              "  <thead>\n",
              "    <tr style=\"text-align: right;\">\n",
              "      <th></th>\n",
              "      <th>smoke_often</th>\n",
              "      <th>total_quantity_eggs</th>\n",
              "      <th>total_quantity_cottagecheese</th>\n",
              "      <th>total_quantity_avocado</th>\n",
              "      <th>total_quantity_cake</th>\n",
              "      <th>total_quantity_beer</th>\n",
              "      <th>total_quantity_wholegrain</th>\n",
              "      <th>cancer</th>\n",
              "    </tr>\n",
              "  </thead>\n",
              "  <tbody>\n",
              "    <tr>\n",
              "      <th>0</th>\n",
              "      <td>Yes</td>\n",
              "      <td>21</td>\n",
              "      <td>2</td>\n",
              "      <td>9</td>\n",
              "      <td>1</td>\n",
              "      <td>8</td>\n",
              "      <td>2</td>\n",
              "      <td>Yes</td>\n",
              "    </tr>\n",
              "    <tr>\n",
              "      <th>1</th>\n",
              "      <td>No</td>\n",
              "      <td>16</td>\n",
              "      <td>2</td>\n",
              "      <td>18</td>\n",
              "      <td>1</td>\n",
              "      <td>12</td>\n",
              "      <td>2</td>\n",
              "      <td>No</td>\n",
              "    </tr>\n",
              "    <tr>\n",
              "      <th>2</th>\n",
              "      <td>No</td>\n",
              "      <td>8</td>\n",
              "      <td>4</td>\n",
              "      <td>2</td>\n",
              "      <td>1</td>\n",
              "      <td>12</td>\n",
              "      <td>2</td>\n",
              "      <td>Yes</td>\n",
              "    </tr>\n",
              "    <tr>\n",
              "      <th>3</th>\n",
              "      <td>No</td>\n",
              "      <td>14</td>\n",
              "      <td>2</td>\n",
              "      <td>2</td>\n",
              "      <td>14</td>\n",
              "      <td>1</td>\n",
              "      <td>24</td>\n",
              "      <td>No</td>\n",
              "    </tr>\n",
              "    <tr>\n",
              "      <th>4</th>\n",
              "      <td>No</td>\n",
              "      <td>10</td>\n",
              "      <td>4</td>\n",
              "      <td>2</td>\n",
              "      <td>1</td>\n",
              "      <td>7</td>\n",
              "      <td>9</td>\n",
              "      <td>Yes</td>\n",
              "    </tr>\n",
              "  </tbody>\n",
              "</table>\n",
              "</div>"
            ],
            "text/plain": [
              "  smoke_often  total_quantity_eggs  ...  total_quantity_wholegrain  cancer\n",
              "0         Yes                   21  ...                          2     Yes\n",
              "1          No                   16  ...                          2      No\n",
              "2          No                    8  ...                          2     Yes\n",
              "3          No                   14  ...                         24      No\n",
              "4          No                   10  ...                          9     Yes\n",
              "\n",
              "[5 rows x 8 columns]"
            ]
          },
          "metadata": {
            "tags": []
          },
          "execution_count": 14
        }
      ]
    },
    {
      "cell_type": "markdown",
      "metadata": {
        "id": "f-cbCOMklTj8"
      },
      "source": [
        "**EDA**"
      ]
    },
    {
      "cell_type": "code",
      "metadata": {
        "id": "CqLFBeMRNbxW",
        "outputId": "f99cec75-f1d8-419e-e40d-aabfd8bc9d5b",
        "colab": {
          "base_uri": "https://localhost:8080/",
          "height": 170
        }
      },
      "source": [
        "#Check the datatype of the features in the dataframe\n",
        "df.dtypes"
      ],
      "execution_count": null,
      "outputs": [
        {
          "output_type": "execute_result",
          "data": {
            "text/plain": [
              "smoke_often                     object\n",
              "total_quantity_eggs              int64\n",
              "total_quantity_cottagecheese     int64\n",
              "total_quantity_avocado           int64\n",
              "total_quantity_cake              int64\n",
              "total_quantity_beer              int64\n",
              "total_quantity_wholegrain        int64\n",
              "cancer                          object\n",
              "dtype: object"
            ]
          },
          "metadata": {
            "tags": []
          },
          "execution_count": 15
        }
      ]
    },
    {
      "cell_type": "code",
      "metadata": {
        "id": "__cwmJqBN2bo",
        "outputId": "1f6286fe-661c-4e7c-b6f0-fdf81cbde4c8",
        "colab": {
          "base_uri": "https://localhost:8080/",
          "height": 34
        }
      },
      "source": [
        "#check the dimension of the dataset\n",
        "df.shape"
      ],
      "execution_count": null,
      "outputs": [
        {
          "output_type": "execute_result",
          "data": {
            "text/plain": [
              "(54, 8)"
            ]
          },
          "metadata": {
            "tags": []
          },
          "execution_count": 16
        }
      ]
    },
    {
      "cell_type": "code",
      "metadata": {
        "id": "gUys7oBpN4Zd"
      },
      "source": [
        "##from the dimensions shown above, n>p\n",
        "##the training data will no longer overfit the model"
      ],
      "execution_count": null,
      "outputs": []
    },
    {
      "cell_type": "code",
      "metadata": {
        "id": "1JL_G6r-O05R",
        "outputId": "6bfa664d-d8cf-4980-d359-dcdf562027ca",
        "colab": {
          "base_uri": "https://localhost:8080/",
          "height": 297
        }
      },
      "source": [
        "##check the data description\n",
        "df.describe()"
      ],
      "execution_count": null,
      "outputs": [
        {
          "output_type": "execute_result",
          "data": {
            "text/html": [
              "<div>\n",
              "<style scoped>\n",
              "    .dataframe tbody tr th:only-of-type {\n",
              "        vertical-align: middle;\n",
              "    }\n",
              "\n",
              "    .dataframe tbody tr th {\n",
              "        vertical-align: top;\n",
              "    }\n",
              "\n",
              "    .dataframe thead th {\n",
              "        text-align: right;\n",
              "    }\n",
              "</style>\n",
              "<table border=\"1\" class=\"dataframe\">\n",
              "  <thead>\n",
              "    <tr style=\"text-align: right;\">\n",
              "      <th></th>\n",
              "      <th>total_quantity_eggs</th>\n",
              "      <th>total_quantity_cottagecheese</th>\n",
              "      <th>total_quantity_avocado</th>\n",
              "      <th>total_quantity_cake</th>\n",
              "      <th>total_quantity_beer</th>\n",
              "      <th>total_quantity_wholegrain</th>\n",
              "    </tr>\n",
              "  </thead>\n",
              "  <tbody>\n",
              "    <tr>\n",
              "      <th>count</th>\n",
              "      <td>54.000000</td>\n",
              "      <td>54.000000</td>\n",
              "      <td>54.000000</td>\n",
              "      <td>54.000000</td>\n",
              "      <td>54.000000</td>\n",
              "      <td>54.000000</td>\n",
              "    </tr>\n",
              "    <tr>\n",
              "      <th>mean</th>\n",
              "      <td>10.962963</td>\n",
              "      <td>3.666667</td>\n",
              "      <td>12.407407</td>\n",
              "      <td>4.185185</td>\n",
              "      <td>8.814815</td>\n",
              "      <td>9.129630</td>\n",
              "    </tr>\n",
              "    <tr>\n",
              "      <th>std</th>\n",
              "      <td>6.737568</td>\n",
              "      <td>2.854986</td>\n",
              "      <td>8.513072</td>\n",
              "      <td>3.762145</td>\n",
              "      <td>7.596111</td>\n",
              "      <td>7.541198</td>\n",
              "    </tr>\n",
              "    <tr>\n",
              "      <th>min</th>\n",
              "      <td>1.000000</td>\n",
              "      <td>2.000000</td>\n",
              "      <td>2.000000</td>\n",
              "      <td>1.000000</td>\n",
              "      <td>1.000000</td>\n",
              "      <td>1.000000</td>\n",
              "    </tr>\n",
              "    <tr>\n",
              "      <th>25%</th>\n",
              "      <td>6.000000</td>\n",
              "      <td>2.000000</td>\n",
              "      <td>6.000000</td>\n",
              "      <td>1.000000</td>\n",
              "      <td>3.000000</td>\n",
              "      <td>2.000000</td>\n",
              "    </tr>\n",
              "    <tr>\n",
              "      <th>50%</th>\n",
              "      <td>10.000000</td>\n",
              "      <td>2.000000</td>\n",
              "      <td>12.000000</td>\n",
              "      <td>4.000000</td>\n",
              "      <td>7.500000</td>\n",
              "      <td>8.500000</td>\n",
              "    </tr>\n",
              "    <tr>\n",
              "      <th>75%</th>\n",
              "      <td>14.000000</td>\n",
              "      <td>4.000000</td>\n",
              "      <td>17.500000</td>\n",
              "      <td>6.000000</td>\n",
              "      <td>12.000000</td>\n",
              "      <td>12.000000</td>\n",
              "    </tr>\n",
              "    <tr>\n",
              "      <th>max</th>\n",
              "      <td>32.000000</td>\n",
              "      <td>12.000000</td>\n",
              "      <td>36.000000</td>\n",
              "      <td>16.000000</td>\n",
              "      <td>36.000000</td>\n",
              "      <td>28.000000</td>\n",
              "    </tr>\n",
              "  </tbody>\n",
              "</table>\n",
              "</div>"
            ],
            "text/plain": [
              "       total_quantity_eggs  ...  total_quantity_wholegrain\n",
              "count            54.000000  ...                  54.000000\n",
              "mean             10.962963  ...                   9.129630\n",
              "std               6.737568  ...                   7.541198\n",
              "min               1.000000  ...                   1.000000\n",
              "25%               6.000000  ...                   2.000000\n",
              "50%              10.000000  ...                   8.500000\n",
              "75%              14.000000  ...                  12.000000\n",
              "max              32.000000  ...                  28.000000\n",
              "\n",
              "[8 rows x 6 columns]"
            ]
          },
          "metadata": {
            "tags": []
          },
          "execution_count": 18
        }
      ]
    },
    {
      "cell_type": "code",
      "metadata": {
        "id": "Dys2cStp9d0c",
        "outputId": "43d5cb92-ec37-4d4a-d90d-e3156d65e63c",
        "colab": {
          "base_uri": "https://localhost:8080/",
          "height": 235
        }
      },
      "source": [
        "#check corrolation of variables\n",
        "df.corr()"
      ],
      "execution_count": null,
      "outputs": [
        {
          "output_type": "execute_result",
          "data": {
            "text/html": [
              "<div>\n",
              "<style scoped>\n",
              "    .dataframe tbody tr th:only-of-type {\n",
              "        vertical-align: middle;\n",
              "    }\n",
              "\n",
              "    .dataframe tbody tr th {\n",
              "        vertical-align: top;\n",
              "    }\n",
              "\n",
              "    .dataframe thead th {\n",
              "        text-align: right;\n",
              "    }\n",
              "</style>\n",
              "<table border=\"1\" class=\"dataframe\">\n",
              "  <thead>\n",
              "    <tr style=\"text-align: right;\">\n",
              "      <th></th>\n",
              "      <th>total_quantity_eggs</th>\n",
              "      <th>total_quantity_cottagecheese</th>\n",
              "      <th>total_quantity_avocado</th>\n",
              "      <th>total_quantity_cake</th>\n",
              "      <th>total_quantity_beer</th>\n",
              "      <th>total_quantity_wholegrain</th>\n",
              "    </tr>\n",
              "  </thead>\n",
              "  <tbody>\n",
              "    <tr>\n",
              "      <th>total_quantity_eggs</th>\n",
              "      <td>1.000000</td>\n",
              "      <td>0.001308</td>\n",
              "      <td>0.138429</td>\n",
              "      <td>0.340450</td>\n",
              "      <td>-0.057648</td>\n",
              "      <td>0.051342</td>\n",
              "    </tr>\n",
              "    <tr>\n",
              "      <th>total_quantity_cottagecheese</th>\n",
              "      <td>0.001308</td>\n",
              "      <td>1.000000</td>\n",
              "      <td>0.052271</td>\n",
              "      <td>-0.103057</td>\n",
              "      <td>-0.203875</td>\n",
              "      <td>-0.131161</td>\n",
              "    </tr>\n",
              "    <tr>\n",
              "      <th>total_quantity_avocado</th>\n",
              "      <td>0.138429</td>\n",
              "      <td>0.052271</td>\n",
              "      <td>1.000000</td>\n",
              "      <td>-0.153803</td>\n",
              "      <td>-0.180295</td>\n",
              "      <td>-0.107817</td>\n",
              "    </tr>\n",
              "    <tr>\n",
              "      <th>total_quantity_cake</th>\n",
              "      <td>0.340450</td>\n",
              "      <td>-0.103057</td>\n",
              "      <td>-0.153803</td>\n",
              "      <td>1.000000</td>\n",
              "      <td>-0.052916</td>\n",
              "      <td>0.190670</td>\n",
              "    </tr>\n",
              "    <tr>\n",
              "      <th>total_quantity_beer</th>\n",
              "      <td>-0.057648</td>\n",
              "      <td>-0.203875</td>\n",
              "      <td>-0.180295</td>\n",
              "      <td>-0.052916</td>\n",
              "      <td>1.000000</td>\n",
              "      <td>0.122626</td>\n",
              "    </tr>\n",
              "    <tr>\n",
              "      <th>total_quantity_wholegrain</th>\n",
              "      <td>0.051342</td>\n",
              "      <td>-0.131161</td>\n",
              "      <td>-0.107817</td>\n",
              "      <td>0.190670</td>\n",
              "      <td>0.122626</td>\n",
              "      <td>1.000000</td>\n",
              "    </tr>\n",
              "  </tbody>\n",
              "</table>\n",
              "</div>"
            ],
            "text/plain": [
              "                              total_quantity_eggs  ...  total_quantity_wholegrain\n",
              "total_quantity_eggs                      1.000000  ...                   0.051342\n",
              "total_quantity_cottagecheese             0.001308  ...                  -0.131161\n",
              "total_quantity_avocado                   0.138429  ...                  -0.107817\n",
              "total_quantity_cake                      0.340450  ...                   0.190670\n",
              "total_quantity_beer                     -0.057648  ...                   0.122626\n",
              "total_quantity_wholegrain                0.051342  ...                   1.000000\n",
              "\n",
              "[6 rows x 6 columns]"
            ]
          },
          "metadata": {
            "tags": []
          },
          "execution_count": 19
        }
      ]
    },
    {
      "cell_type": "code",
      "metadata": {
        "id": "wfJTsX8i9dzc"
      },
      "source": [
        "#set precision to 2 and display.width to 100\n",
        "pd.set_option('display.width',100)\n",
        "pd.set_option('precision',2)"
      ],
      "execution_count": null,
      "outputs": []
    },
    {
      "cell_type": "code",
      "metadata": {
        "id": "zcRiM5JS9duJ",
        "outputId": "6cefbc1c-ad4c-4f6d-cade-5e97e5062f37",
        "colab": {
          "base_uri": "https://localhost:8080/",
          "height": 235
        }
      },
      "source": [
        "df.corr()"
      ],
      "execution_count": null,
      "outputs": [
        {
          "output_type": "execute_result",
          "data": {
            "text/html": [
              "<div>\n",
              "<style scoped>\n",
              "    .dataframe tbody tr th:only-of-type {\n",
              "        vertical-align: middle;\n",
              "    }\n",
              "\n",
              "    .dataframe tbody tr th {\n",
              "        vertical-align: top;\n",
              "    }\n",
              "\n",
              "    .dataframe thead th {\n",
              "        text-align: right;\n",
              "    }\n",
              "</style>\n",
              "<table border=\"1\" class=\"dataframe\">\n",
              "  <thead>\n",
              "    <tr style=\"text-align: right;\">\n",
              "      <th></th>\n",
              "      <th>total_quantity_eggs</th>\n",
              "      <th>total_quantity_cottagecheese</th>\n",
              "      <th>total_quantity_avocado</th>\n",
              "      <th>total_quantity_cake</th>\n",
              "      <th>total_quantity_beer</th>\n",
              "      <th>total_quantity_wholegrain</th>\n",
              "    </tr>\n",
              "  </thead>\n",
              "  <tbody>\n",
              "    <tr>\n",
              "      <th>total_quantity_eggs</th>\n",
              "      <td>1.00e+00</td>\n",
              "      <td>1.31e-03</td>\n",
              "      <td>0.14</td>\n",
              "      <td>0.34</td>\n",
              "      <td>-0.06</td>\n",
              "      <td>0.05</td>\n",
              "    </tr>\n",
              "    <tr>\n",
              "      <th>total_quantity_cottagecheese</th>\n",
              "      <td>1.31e-03</td>\n",
              "      <td>1.00e+00</td>\n",
              "      <td>0.05</td>\n",
              "      <td>-0.10</td>\n",
              "      <td>-0.20</td>\n",
              "      <td>-0.13</td>\n",
              "    </tr>\n",
              "    <tr>\n",
              "      <th>total_quantity_avocado</th>\n",
              "      <td>1.38e-01</td>\n",
              "      <td>5.23e-02</td>\n",
              "      <td>1.00</td>\n",
              "      <td>-0.15</td>\n",
              "      <td>-0.18</td>\n",
              "      <td>-0.11</td>\n",
              "    </tr>\n",
              "    <tr>\n",
              "      <th>total_quantity_cake</th>\n",
              "      <td>3.40e-01</td>\n",
              "      <td>-1.03e-01</td>\n",
              "      <td>-0.15</td>\n",
              "      <td>1.00</td>\n",
              "      <td>-0.05</td>\n",
              "      <td>0.19</td>\n",
              "    </tr>\n",
              "    <tr>\n",
              "      <th>total_quantity_beer</th>\n",
              "      <td>-5.76e-02</td>\n",
              "      <td>-2.04e-01</td>\n",
              "      <td>-0.18</td>\n",
              "      <td>-0.05</td>\n",
              "      <td>1.00</td>\n",
              "      <td>0.12</td>\n",
              "    </tr>\n",
              "    <tr>\n",
              "      <th>total_quantity_wholegrain</th>\n",
              "      <td>5.13e-02</td>\n",
              "      <td>-1.31e-01</td>\n",
              "      <td>-0.11</td>\n",
              "      <td>0.19</td>\n",
              "      <td>0.12</td>\n",
              "      <td>1.00</td>\n",
              "    </tr>\n",
              "  </tbody>\n",
              "</table>\n",
              "</div>"
            ],
            "text/plain": [
              "                              total_quantity_eggs  ...  total_quantity_wholegrain\n",
              "total_quantity_eggs                      1.00e+00  ...                       0.05\n",
              "total_quantity_cottagecheese             1.31e-03  ...                      -0.13\n",
              "total_quantity_avocado                   1.38e-01  ...                      -0.11\n",
              "total_quantity_cake                      3.40e-01  ...                       0.19\n",
              "total_quantity_beer                     -5.76e-02  ...                       0.12\n",
              "total_quantity_wholegrain                5.13e-02  ...                       1.00\n",
              "\n",
              "[6 rows x 6 columns]"
            ]
          },
          "metadata": {
            "tags": []
          },
          "execution_count": 21
        }
      ]
    },
    {
      "cell_type": "code",
      "metadata": {
        "id": "5ZIHhTTelk8l",
        "outputId": "1cc2b162-b97e-4408-ad03-f2faf1ade70c",
        "colab": {
          "base_uri": "https://localhost:8080/",
          "height": 306
        }
      },
      "source": [
        "###CORROLATION BETWEEN VARIABLES,p\n",
        "print(df.corr().unstack().sort_values().drop_duplicates())"
      ],
      "execution_count": null,
      "outputs": [
        {
          "output_type": "stream",
          "text": [
            "total_quantity_beer           total_quantity_cottagecheese   -2.04e-01\n",
            "                              total_quantity_avocado         -1.80e-01\n",
            "total_quantity_cake           total_quantity_avocado         -1.54e-01\n",
            "total_quantity_wholegrain     total_quantity_cottagecheese   -1.31e-01\n",
            "total_quantity_avocado        total_quantity_wholegrain      -1.08e-01\n",
            "total_quantity_cake           total_quantity_cottagecheese   -1.03e-01\n",
            "total_quantity_beer           total_quantity_eggs            -5.76e-02\n",
            "                              total_quantity_cake            -5.29e-02\n",
            "total_quantity_eggs           total_quantity_cottagecheese    1.31e-03\n",
            "total_quantity_wholegrain     total_quantity_eggs             5.13e-02\n",
            "total_quantity_cottagecheese  total_quantity_avocado          5.23e-02\n",
            "total_quantity_wholegrain     total_quantity_beer             1.23e-01\n",
            "total_quantity_eggs           total_quantity_avocado          1.38e-01\n",
            "total_quantity_cake           total_quantity_wholegrain       1.91e-01\n",
            "total_quantity_eggs           total_quantity_cake             3.40e-01\n",
            "                              total_quantity_eggs             1.00e+00\n",
            "dtype: float64\n"
          ],
          "name": "stdout"
        }
      ]
    },
    {
      "cell_type": "code",
      "metadata": {
        "id": "yw0MMfhqFz9y",
        "outputId": "0348529f-707c-495a-bd78-1703131fd5fb",
        "colab": {
          "base_uri": "https://localhost:8080/",
          "height": 423
        }
      },
      "source": [
        "import seaborn as sns\n",
        "# Boxplot and histogram for hate crimes...\n",
        "PH.figure(figsize = (14, 6))\n",
        "PH.subplot(1,2,1)\n",
        "sns.boxplot(df.total_quantity_cake)\n",
        "PH.subplot(1,2,2)\n",
        "sns.distplot(df.total_quantity_cake, bins=20)\n",
        "PH.show()"
      ],
      "execution_count": null,
      "outputs": [
        {
          "output_type": "stream",
          "text": [
            "/usr/local/lib/python3.6/dist-packages/statsmodels/tools/_testing.py:19: FutureWarning: pandas.util.testing is deprecated. Use the functions in the public API at pandas.testing instead.\n",
            "  import pandas.util.testing as tm\n"
          ],
          "name": "stderr"
        },
        {
          "output_type": "display_data",
          "data": {
            "image/png": "[encoded data removed]",
            "text/plain": [
              "<Figure size 1008x432 with 2 Axes>"
            ]
          },
          "metadata": {
            "tags": [],
            "needs_background": "light"
          }
        }
      ]
    },
    {
      "cell_type": "code",
      "metadata": {
        "id": "mz5wgeSVGqVa",
        "outputId": "b028b8d3-e69c-4f47-84ca-614203387acb",
        "colab": {
          "base_uri": "https://localhost:8080/",
          "height": 389
        }
      },
      "source": [
        "# Boxplot and histogram for hate crimes...\n",
        "PH.figure(figsize = (14, 6))\n",
        "PH.subplot(1,2,1)\n",
        "sns.boxplot(df.total_quantity_beer)\n",
        "PH.subplot(1,2,2)\n",
        "sns.distplot(df.total_quantity_beer, bins=20)\n",
        "PH.show()"
      ],
      "execution_count": null,
      "outputs": [
        {
          "output_type": "display_data",
          "data": {
            "image/png": "[encoded data removed]",
            "text/plain": [
              "<Figure size 1008x432 with 2 Axes>"
            ]
          },
          "metadata": {
            "tags": [],
            "needs_background": "light"
          }
        }
      ]
    },
    {
      "cell_type": "markdown",
      "metadata": {
        "id": "ei7qn2nfmC50"
      },
      "source": [
        "**DATA VISUALIZATION**"
      ]
    },
    {
      "cell_type": "code",
      "metadata": {
        "id": "HqqOaXFd9dth",
        "outputId": "9d50c39f-2bae-4db5-fd1a-9946c255e523",
        "colab": {
          "base_uri": "https://localhost:8080/",
          "height": 281
        }
      },
      "source": [
        "#Create a histplot to see understand the data is skew, Gaussian and exponential distribution and also see the possible outliers\n",
        "df.hist()\n",
        "PH.show()"
      ],
      "execution_count": null,
      "outputs": [
        {
          "output_type": "display_data",
          "data": {
            "image/png": "[encoded data removed]",
            "text/plain": [
              "<Figure size 432x288 with 6 Axes>"
            ]
          },
          "metadata": {
            "tags": [],
            "needs_background": "light"
          }
        }
      ]
    },
    {
      "cell_type": "code",
      "metadata": {
        "id": "C04XIKlFM0DV",
        "outputId": "610222c7-d231-4307-90e4-bb66dbcecef0",
        "colab": {
          "base_uri": "https://localhost:8080/",
          "height": 955
        }
      },
      "source": [
        "#Scatter plot\n",
        "from pandas.plotting import scatter_matrix\n",
        "scatter_matrix(df)"
      ],
      "execution_count": null,
      "outputs": [
        {
          "output_type": "execute_result",
          "data": {
            "text/plain": [
              "array([[<matplotlib.axes._subplots.AxesSubplot object at 0x7f62472af6d8>,\n",
              "        <matplotlib.axes._subplots.AxesSubplot object at 0x7f62471435c0>,\n",
              "        <matplotlib.axes._subplots.AxesSubplot object at 0x7f62478a47f0>,\n",
              "        <matplotlib.axes._subplots.AxesSubplot object at 0x7f624732da58>,\n",
              "        <matplotlib.axes._subplots.AxesSubplot object at 0x7f62470f2cc0>,\n",
              "        <matplotlib.axes._subplots.AxesSubplot object at 0x7f62470a9f28>],\n",
              "       [<matplotlib.axes._subplots.AxesSubplot object at 0x7f62470681d0>,\n",
              "        <matplotlib.axes._subplots.AxesSubplot object at 0x7f624709b400>,\n",
              "        <matplotlib.axes._subplots.AxesSubplot object at 0x7f624709b470>,\n",
              "        <matplotlib.axes._subplots.AxesSubplot object at 0x7f6247005908>,\n",
              "        <matplotlib.axes._subplots.AxesSubplot object at 0x7f6246fb8b70>,\n",
              "        <matplotlib.axes._subplots.AxesSubplot object at 0x7f6246f6ddd8>],\n",
              "       [<matplotlib.axes._subplots.AxesSubplot object at 0x7f6246f31080>,\n",
              "        <matplotlib.axes._subplots.AxesSubplot object at 0x7f6246f622e8>,\n",
              "        <matplotlib.axes._subplots.AxesSubplot object at 0x7f6246f15550>,\n",
              "        <matplotlib.axes._subplots.AxesSubplot object at 0x7f6246ec97b8>,\n",
              "        <matplotlib.axes._subplots.AxesSubplot object at 0x7f6246e7da20>,\n",
              "        <matplotlib.axes._subplots.AxesSubplot object at 0x7f6246e31c88>],\n",
              "       [<matplotlib.axes._subplots.AxesSubplot object at 0x7f6246e63ef0>,\n",
              "        <matplotlib.axes._subplots.AxesSubplot object at 0x7f6246e26198>,\n",
              "        <matplotlib.axes._subplots.AxesSubplot object at 0x7f6246dd9400>,\n",
              "        <matplotlib.axes._subplots.AxesSubplot object at 0x7f6246d8e668>,\n",
              "        <matplotlib.axes._subplots.AxesSubplot object at 0x7f6246d3f9e8>,\n",
              "        <matplotlib.axes._subplots.AxesSubplot object at 0x7f6246cf4d68>],\n",
              "       [<matplotlib.axes._subplots.AxesSubplot object at 0x7f6246cae128>,\n",
              "        <matplotlib.axes._subplots.AxesSubplot object at 0x7f6246ce34a8>,\n",
              "        <matplotlib.axes._subplots.AxesSubplot object at 0x7f6246c93828>,\n",
              "        <matplotlib.axes._subplots.AxesSubplot object at 0x7f6246c46ba8>,\n",
              "        <matplotlib.axes._subplots.AxesSubplot object at 0x7f6246bf8f28>,\n",
              "        <matplotlib.axes._subplots.AxesSubplot object at 0x7f6246bb92e8>],\n",
              "       [<matplotlib.axes._subplots.AxesSubplot object at 0x7f6246b69668>,\n",
              "        <matplotlib.axes._subplots.AxesSubplot object at 0x7f6246b9c9e8>,\n",
              "        <matplotlib.axes._subplots.AxesSubplot object at 0x7f6246b4ed68>,\n",
              "        <matplotlib.axes._subplots.AxesSubplot object at 0x7f6246b0f128>,\n",
              "        <matplotlib.axes._subplots.AxesSubplot object at 0x7f6246abf4a8>,\n",
              "        <matplotlib.axes._subplots.AxesSubplot object at 0x7f6246a72828>]],\n",
              "      dtype=object)"
            ]
          },
          "metadata": {
            "tags": []
          },
          "execution_count": 26
        },
        {
          "output_type": "display_data",
          "data": {
            "image/png": "[encoded data removed]",
            "text/plain": [
              "<Figure size 432x288 with 36 Axes>"
            ]
          },
          "metadata": {
            "tags": [],
            "needs_background": "light"
          }
        }
      ]
    },
    {
      "cell_type": "code",
      "metadata": {
        "id": "-ywL6I33Mz-2",
        "outputId": "630bd12b-a541-48ea-aecd-950dc22888b7",
        "colab": {
          "base_uri": "https://localhost:8080/",
          "height": 359
        }
      },
      "source": [
        "df.plot(kind='density',subplots=True,layout=(3,3),sharex=False,sharey=False)"
      ],
      "execution_count": null,
      "outputs": [
        {
          "output_type": "execute_result",
          "data": {
            "text/plain": [
              "array([[<matplotlib.axes._subplots.AxesSubplot object at 0x7f6247842780>,\n",
              "        <matplotlib.axes._subplots.AxesSubplot object at 0x7f624790ba90>,\n",
              "        <matplotlib.axes._subplots.AxesSubplot object at 0x7f624739d240>],\n",
              "       [<matplotlib.axes._subplots.AxesSubplot object at 0x7f624724bc50>,\n",
              "        <matplotlib.axes._subplots.AxesSubplot object at 0x7f624712b668>,\n",
              "        <matplotlib.axes._subplots.AxesSubplot object at 0x7f62471b58d0>],\n",
              "       [<matplotlib.axes._subplots.AxesSubplot object at 0x7f62471a4b38>,\n",
              "        <matplotlib.axes._subplots.AxesSubplot object at 0x7f624721bc18>,\n",
              "        <matplotlib.axes._subplots.AxesSubplot object at 0x7f624721bba8>]],\n",
              "      dtype=object)"
            ]
          },
          "metadata": {
            "tags": []
          },
          "execution_count": 27
        },
        {
          "output_type": "display_data",
          "data": {
            "image/png": "[encoded data removed]",
            "text/plain": [
              "<Figure size 432x288 with 9 Axes>"
            ]
          },
          "metadata": {
            "tags": [],
            "needs_background": "light"
          }
        }
      ]
    },
    {
      "cell_type": "code",
      "metadata": {
        "id": "TXrH0C1-NPXB",
        "outputId": "1e77e0c4-58e6-4971-eb57-6849ffb05fce",
        "colab": {
          "base_uri": "https://localhost:8080/",
          "height": 385
        }
      },
      "source": [
        "##box plot\n",
        "df.plot(kind='box',subplots=True,layout=(2,3),sharex=False,sharey=False)"
      ],
      "execution_count": null,
      "outputs": [
        {
          "output_type": "execute_result",
          "data": {
            "text/plain": [
              "total_quantity_eggs                AxesSubplot(0.125,0.536818;0.227941x0.343182)\n",
              "total_quantity_cottagecheese    AxesSubplot(0.398529,0.536818;0.227941x0.343182)\n",
              "total_quantity_avocado          AxesSubplot(0.672059,0.536818;0.227941x0.343182)\n",
              "total_quantity_cake                   AxesSubplot(0.125,0.125;0.227941x0.343182)\n",
              "total_quantity_beer                AxesSubplot(0.398529,0.125;0.227941x0.343182)\n",
              "total_quantity_wholegrain          AxesSubplot(0.672059,0.125;0.227941x0.343182)\n",
              "dtype: object"
            ]
          },
          "metadata": {
            "tags": []
          },
          "execution_count": 28
        },
        {
          "output_type": "display_data",
          "data": {
            "image/png": "[encoded data removed]",
            "text/plain": [
              "<Figure size 432x288 with 6 Axes>"
            ]
          },
          "metadata": {
            "tags": [],
            "needs_background": "light"
          }
        }
      ]
    },
    {
      "cell_type": "code",
      "metadata": {
        "id": "YEJzxh2ePwrD",
        "outputId": "278557b7-f07b-485e-a8e7-82b0f553228c",
        "colab": {
          "base_uri": "https://localhost:8080/",
          "height": 283
        }
      },
      "source": [
        "df.plot(kind='box',subplots=False,layout=(2,3),sharex=False,sharey=False)"
      ],
      "execution_count": null,
      "outputs": [
        {
          "output_type": "execute_result",
          "data": {
            "text/plain": [
              "<matplotlib.axes._subplots.AxesSubplot at 0x7f6244d25b00>"
            ]
          },
          "metadata": {
            "tags": []
          },
          "execution_count": 29
        },
        {
          "output_type": "display_data",
          "data": {
            "image/png": "[encoded data removed]",
            "text/plain": [
              "<Figure size 432x288 with 1 Axes>"
            ]
          },
          "metadata": {
            "tags": [],
            "needs_background": "light"
          }
        }
      ]
    },
    {
      "cell_type": "code",
      "metadata": {
        "id": "ZGKURE2eMz4l",
        "outputId": "328940f0-b187-4bf5-fdc9-b0b0d680bd31",
        "colab": {
          "base_uri": "https://localhost:8080/",
          "height": 271
        }
      },
      "source": [
        "#Multivariance plot\n",
        "corrolation=df.corr()\n",
        "fig=PH.figure()\n",
        "Ax=fig.add_subplot(111)\n",
        "CAX=Ax.matshow(corrolation,vmin=-1,vmax=1)\n",
        "fig.colorbar(CAX)\n",
        "PH.show()"
      ],
      "execution_count": null,
      "outputs": [
        {
          "output_type": "display_data",
          "data": {
            "image/png": "[encoded data removed]",
            "text/plain": [
              "<Figure size 432x288 with 2 Axes>"
            ]
          },
          "metadata": {
            "tags": [],
            "needs_background": "light"
          }
        }
      ]
    },
    {
      "cell_type": "code",
      "metadata": {
        "id": "IuYbuazOMz4C"
      },
      "source": [
        ""
      ],
      "execution_count": null,
      "outputs": []
    },
    {
      "cell_type": "markdown",
      "metadata": {
        "id": "TJP5FP-iRDUm"
      },
      "source": [
        "**MODEL DEPLOYMENT**"
      ]
    },
    {
      "cell_type": "code",
      "metadata": {
        "id": "EuOc7HcxMzww",
        "outputId": "6ec6b829-d355-4087-f3a9-05aed2c4ba1a",
        "colab": {
          "base_uri": "https://localhost:8080/",
          "height": 34
        }
      },
      "source": [
        "target=df['cancer'] \n",
        "target.unique()"
      ],
      "execution_count": null,
      "outputs": [
        {
          "output_type": "execute_result",
          "data": {
            "text/plain": [
              "array(['Yes', 'No'], dtype=object)"
            ]
          },
          "metadata": {
            "tags": []
          },
          "execution_count": 31
        }
      ]
    },
    {
      "cell_type": "code",
      "metadata": {
        "id": "02aVNQ_4ZJ98"
      },
      "source": [
        "#convert categorical variables into numeric using the code from pandas:\n",
        "target_variable=[\"cancer\",\"smoke_often\"]\n",
        "for category in target_variable:\n",
        "  df[category]=pd.get_dummies(df[category])"
      ],
      "execution_count": null,
      "outputs": []
    },
    {
      "cell_type": "code",
      "metadata": {
        "id": "OxeL4bS-MzwN"
      },
      "source": [
        "#drop the target variable from the data set\n",
        "Nutrition=df.drop(['cancer'],axis=1)"
      ],
      "execution_count": null,
      "outputs": []
    },
    {
      "cell_type": "code",
      "metadata": {
        "id": "Oi-68XufMzpX"
      },
      "source": [
        "#PREPOCESSED DATA\n",
        "#import train_test-split\n",
        "#Split the data into training sets\n",
        "from sklearn.model_selection import train_test_split\n",
        "#import LabelEncoder as it works fine with categorical variables\n",
        "from sklearn import preprocessing\n",
        "LE= preprocessing.LabelEncoder()\n",
        "#Extract the independent and target variables as x and y\n",
        "x,y=Nutrition.values,target.values\n",
        "#use fit_transform function to fit transformed target values\n",
        "y=LE.fit_transform(y)\n",
        "x_train,x_test,y_train,y_test=train_test_split(x,y,test_size=0.3,random_state=1)"
      ],
      "execution_count": null,
      "outputs": []
    },
    {
      "cell_type": "code",
      "metadata": {
        "id": "Tf-ChZAFMzow",
        "outputId": "43193464-2f60-46c1-c15d-34e60b7f96b2",
        "colab": {
          "base_uri": "https://localhost:8080/",
          "height": 34
        }
      },
      "source": [
        "#import decision tree function\n",
        "from sklearn.tree import DecisionTreeClassifier\n",
        "print(x_train.shape)"
      ],
      "execution_count": null,
      "outputs": [
        {
          "output_type": "stream",
          "text": [
            "(37, 7)\n"
          ],
          "name": "stdout"
        }
      ]
    },
    {
      "cell_type": "code",
      "metadata": {
        "id": "MtbmuJXwMzha",
        "outputId": "e4565e15-8299-4369-d2e6-00f2221632c3",
        "colab": {
          "base_uri": "https://localhost:8080/",
          "height": 153
        }
      },
      "source": [
        "#take care of missing data\n",
        "Nutrition.isnull().sum()"
      ],
      "execution_count": null,
      "outputs": [
        {
          "output_type": "execute_result",
          "data": {
            "text/plain": [
              "smoke_often                     0\n",
              "total_quantity_eggs             0\n",
              "total_quantity_cottagecheese    0\n",
              "total_quantity_avocado          0\n",
              "total_quantity_cake             0\n",
              "total_quantity_beer             0\n",
              "total_quantity_wholegrain       0\n",
              "dtype: int64"
            ]
          },
          "metadata": {
            "tags": []
          },
          "execution_count": 36
        }
      ]
    },
    {
      "cell_type": "code",
      "metadata": {
        "id": "LdHhMO9iMzgw",
        "outputId": "0f6ccec3-9537-4c36-eaef-7dc7c41a0679",
        "colab": {
          "base_uri": "https://localhost:8080/",
          "height": 119
        }
      },
      "source": [
        "##DEFINE CLASSIFIER MODEL\n",
        "classifier=DecisionTreeClassifier()\n",
        "classifier.fit(x_train,y_train)\n"
      ],
      "execution_count": null,
      "outputs": [
        {
          "output_type": "execute_result",
          "data": {
            "text/plain": [
              "DecisionTreeClassifier(ccp_alpha=0.0, class_weight=None, criterion='gini',\n",
              "                       max_depth=None, max_features=None, max_leaf_nodes=None,\n",
              "                       min_impurity_decrease=0.0, min_impurity_split=None,\n",
              "                       min_samples_leaf=1, min_samples_split=2,\n",
              "                       min_weight_fraction_leaf=0.0, presort='deprecated',\n",
              "                       random_state=None, splitter='best')"
            ]
          },
          "metadata": {
            "tags": []
          },
          "execution_count": 37
        }
      ]
    },
    {
      "cell_type": "markdown",
      "metadata": {
        "id": "Zqm5EjJmmXG0"
      },
      "source": [
        "**EVALUATION**"
      ]
    },
    {
      "cell_type": "code",
      "metadata": {
        "id": "mHJIIm7fMzaO"
      },
      "source": [
        "#DEFINE PREDICTION\n",
        "y_predict=classifier.predict(x_test)"
      ],
      "execution_count": null,
      "outputs": []
    },
    {
      "cell_type": "code",
      "metadata": {
        "id": "kBSYWA-lMzZI"
      },
      "source": [
        "###import accuracy_score\n",
        "from sklearn.metrics import accuracy_score\n",
        "#check accuracy of model\n",
        "accuracy=accuracy_score(y_predict,y_test)"
      ],
      "execution_count": null,
      "outputs": []
    },
    {
      "cell_type": "code",
      "metadata": {
        "id": "d-hq6-KmTBCC",
        "outputId": "104b9b20-e446-4f34-ae8e-fbcc08d886e5",
        "colab": {
          "base_uri": "https://localhost:8080/",
          "height": 34
        }
      },
      "source": [
        "##use the accuracy to check accuracy of model\n",
        "print(accuracy)"
      ],
      "execution_count": null,
      "outputs": [
        {
          "output_type": "stream",
          "text": [
            "0.5882352941176471\n"
          ],
          "name": "stdout"
        }
      ]
    },
    {
      "cell_type": "code",
      "metadata": {
        "id": "JSWHGXYYTA8I"
      },
      "source": [
        ""
      ],
      "execution_count": null,
      "outputs": []
    },
    {
      "cell_type": "markdown",
      "metadata": {
        "id": "8taUNbOScLwi"
      },
      "source": [
        "**TRYING OUT SIMILAR MODELS**"
      ]
    },
    {
      "cell_type": "code",
      "metadata": {
        "id": "dGv08Y_UdA4M"
      },
      "source": [
        "from sklearn.ensemble import RandomForestClassifier\n",
        "Classifier= RandomForestClassifier()"
      ],
      "execution_count": null,
      "outputs": []
    },
    {
      "cell_type": "code",
      "metadata": {
        "id": "IWiVn1ltdArW",
        "outputId": "8d50308d-e5e5-4beb-8315-eeea7f609cbb",
        "colab": {
          "base_uri": "https://localhost:8080/",
          "height": 153
        }
      },
      "source": [
        "Classifier.fit(x_train,y_train)"
      ],
      "execution_count": null,
      "outputs": [
        {
          "output_type": "execute_result",
          "data": {
            "text/plain": [
              "RandomForestClassifier(bootstrap=True, ccp_alpha=0.0, class_weight=None,\n",
              "                       criterion='gini', max_depth=None, max_features='auto',\n",
              "                       max_leaf_nodes=None, max_samples=None,\n",
              "                       min_impurity_decrease=0.0, min_impurity_split=None,\n",
              "                       min_samples_leaf=1, min_samples_split=2,\n",
              "                       min_weight_fraction_leaf=0.0, n_estimators=100,\n",
              "                       n_jobs=None, oob_score=False, random_state=None,\n",
              "                       verbose=0, warm_start=False)"
            ]
          },
          "metadata": {
            "tags": []
          },
          "execution_count": 43
        }
      ]
    },
    {
      "cell_type": "code",
      "metadata": {
        "id": "tfwcb8xedAb-"
      },
      "source": [
        "#USE PREDICT FUNCTION OVER TESTING DATA\n",
        "y_predict=Classifier.predict(x_test)"
      ],
      "execution_count": null,
      "outputs": []
    },
    {
      "cell_type": "code",
      "metadata": {
        "id": "EMENAR2Ddmdw",
        "outputId": "1884433e-137d-4b3a-d46b-ea86b77be6ab",
        "colab": {
          "base_uri": "https://localhost:8080/",
          "height": 34
        }
      },
      "source": [
        "##DEFINE AND PRINT ACCURACY\n",
        "accuracy=accuracy_score(y_predict,y_test)\n",
        "print(accuracy)"
      ],
      "execution_count": null,
      "outputs": [
        {
          "output_type": "stream",
          "text": [
            "0.7058823529411765\n"
          ],
          "name": "stdout"
        }
      ]
    },
    {
      "cell_type": "code",
      "metadata": {
        "id": "zg8EnTwchck0"
      },
      "source": [
        "###when we used a subset of p, the test observation performed better\n",
        "###Even though this rhe random forest model performed better, for a health domain prediction, it is not a suitable model as any wrong prediction on individuals can lead to negative consequences \n",
        "###RECALL:n=data point,p=features"
      ],
      "execution_count": null,
      "outputs": []
    }
  ]
}